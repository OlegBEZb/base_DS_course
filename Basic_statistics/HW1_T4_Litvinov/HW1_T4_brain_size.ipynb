{
 "cells": [
  {
   "cell_type": "markdown",
   "metadata": {},
   "source": [
    "# Task: Есть ли взаимосвязь между размером мозга и интеллектом \n",
    "\n",
    "Usefull links\n",
    "    - http://www.scipy-lectures.org/packages/statistics/index.html\n",
    "    - http://lib.stat.cmu.edu/DASL/Datafiles/Brainsize.html \n",
    "    - https://www.youtube.com/watch?v=Po5LkYaIQpo&list=PLlb7e2G7aSpRG_Ve6kuxc9Biuwyf42kJx&index=7"
   ]
  },
  {
   "cell_type": "markdown",
   "metadata": {},
   "source": [
    "$$\\rho(\\xi,\\eta)=\\frac{\\mathrm{Cov}(\\xi, \\eta)}{\\sigma_\\xi\\sigma_\\eta}$$\n",
    "\n",
    "$$r_{X,Y}=\\frac{\\frac{1}{n}\\sum_{i=1}^{n}(X_i-\\bar{X})(Y_i-\\bar{Y})}{S_XS_Y}$$\n",
    "$$S_X^2=\\frac{1}{n}\\sum_{i=1}^{n}(X_i-\\bar{X})^2, S_Y^2=\\frac{1}{n}\\sum_{i=1}^{n}(Y_i-\\bar{Y})^2$$\n",
    "\n",
    "$r_{X,Y}\\sqrt{n-2}/\\sqrt{1-r_{X,Y}^2}$ - Подчиняется распределению Стюдента с n-2 степенями свободы"
   ]
  },
  {
   "cell_type": "markdown",
   "metadata": {},
   "source": [
    "# Libs"
   ]
  },
  {
   "cell_type": "code",
   "execution_count": 1,
   "metadata": {},
   "outputs": [],
   "source": [
    "import pandas as pd\n",
    "from scipy import stats\n",
    "import math\n",
    "import matplotlib.pyplot as plt\n",
    "import matplotlib.mlab as mlab\n",
    "import numpy as np"
   ]
  },
  {
   "cell_type": "markdown",
   "metadata": {},
   "source": [
    "# Data loading and simple EDA"
   ]
  },
  {
   "cell_type": "markdown",
   "metadata": {},
   "source": [
    "Исходные данные были добавлены в Excel-таблицу и затем инициализированы как DataFrame с помощью библиотеки pandas"
   ]
  },
  {
   "cell_type": "code",
   "execution_count": 30,
   "metadata": {},
   "outputs": [],
   "source": [
    "df_raw = pd.read_excel('HW1_T4_brain_size_data.xlsx')"
   ]
  },
  {
   "cell_type": "markdown",
   "metadata": {},
   "source": [
    "С целью найти выбросы построим графики boxplot для интересующих нас переменных (размер мозга и интеллект) без разделения на группы по интеллекту. Переменные PIQ и VIQ не рассматриваются, так как из них составляется переменная FSIQ. А переменные Weight и Height не рассматриваются, так как по заданию надо исследовать корреляцию именно между размером мозга и интеллектом."
   ]
  },
  {
   "cell_type": "code",
   "execution_count": 31,
   "metadata": {
    "scrolled": false
   },
   "outputs": [
    {
     "data": {
      "image/png": "[encoded data removed]",
      "text/plain": [
       "<Figure size 864x432 with 2 Axes>"
      ]
     },
     "metadata": {},
     "output_type": "display_data"
    }
   ],
   "source": [
    "fig, axes = plt.subplots(nrows=1, ncols=2, figsize=(12, 6))\n",
    "fs = 14\n",
    "\n",
    "variables = ['FSIQ', 'MRI_Count']\n",
    "\n",
    "for col in range(2):\n",
    "    variable = variables[col]\n",
    "    axes[col].boxplot(df_raw[variable])\n",
    "    axes[col].set_title(variable, fontsize=fs)\n",
    "\n",
    "fig.subplots_adjust(wspace=0.3, hspace=0.2)\n",
    "plt.show()"
   ]
  },
  {
   "cell_type": "markdown",
   "metadata": {},
   "source": [
    "Выбросы отсутствуют. Однако проверить их стоит также после разделения на группы по интеллекту"
   ]
  },
  {
   "cell_type": "markdown",
   "metadata": {},
   "source": [
    "# Analysing"
   ]
  },
  {
   "cell_type": "markdown",
   "metadata": {
    "heading_collapsed": true
   },
   "source": [
    "## Mixed sample of both men and women"
   ]
  },
  {
   "cell_type": "markdown",
   "metadata": {
    "hidden": true
   },
   "source": [
    "Разделим данные на две подгруппы:студенты с общим уровнем интеллекта $\\leq$ 103 и соответственно $\\geq$ 130"
   ]
  },
  {
   "cell_type": "code",
   "execution_count": 4,
   "metadata": {
    "hidden": true
   },
   "outputs": [],
   "source": [
    "both_sexes_less_103 = df_raw[df_raw['FSIQ'] <= 103]\n",
    "both_sexes_more_130 = df_raw[df_raw['FSIQ'] >= 130]"
   ]
  },
  {
   "cell_type": "markdown",
   "metadata": {
    "hidden": true
   },
   "source": [
    "Проверим данные на наличие выбросов. Проверка происходит по каждой переменной для обеих подгрупп. Для удобства была написана функция вывода ящиков с усами для обоих параметров функции для обеих подгрупп студентов."
   ]
  },
  {
   "cell_type": "code",
   "execution_count": 5,
   "metadata": {
    "hidden": true
   },
   "outputs": [],
   "source": [
    "def show_boxplots(less_103, more_130):\n",
    "    fig, axes = plt.subplots(nrows=2, ncols=2, figsize=(8, 10))\n",
    "    fs = 14\n",
    "\n",
    "    variables = ['FSIQ', 'MRI_Count']\n",
    "\n",
    "    for row in range(2):\n",
    "        variable = variables[row]\n",
    "        axes[row, 0].boxplot(less_103[variable])\n",
    "        axes[row, 0].set_title(variable + ' for FSIQ < 103', fontsize=fs)\n",
    "\n",
    "        axes[row, 1].boxplot(more_130[variable])\n",
    "        axes[row, 1].set_title(variable + ' for FSIQ > 130 ', fontsize=fs)\n",
    "\n",
    "    fig.subplots_adjust(wspace=0.3, hspace=0.2)\n",
    "    plt.show()"
   ]
  },
  {
   "cell_type": "code",
   "execution_count": 6,
   "metadata": {
    "hidden": true
   },
   "outputs": [
    {
     "data": {
      "image/png": "[encoded data removed]",
      "text/plain": [
       "<Figure size 576x720 with 4 Axes>"
      ]
     },
     "metadata": {},
     "output_type": "display_data"
    }
   ],
   "source": [
    "show_boxplots(both_sexes_less_103, both_sexes_more_130)"
   ]
  },
  {
   "cell_type": "markdown",
   "metadata": {
    "hidden": true
   },
   "source": [
    "Выброс присутствует у переменной \"MRI_Count\" для подгруппы с меньшим уровнем интеллекта. Попробуем установить причину выброса"
   ]
  },
  {
   "cell_type": "code",
   "execution_count": 7,
   "metadata": {
    "hidden": true,
    "scrolled": true
   },
   "outputs": [
    {
     "data": {
      "text/html": [
       "<div>\n",
       "<style scoped>\n",
       "    .dataframe tbody tr th:only-of-type {\n",
       "        vertical-align: middle;\n",
       "    }\n",
       "\n",
       "    .dataframe tbody tr th {\n",
       "        vertical-align: top;\n",
       "    }\n",
       "\n",
       "    .dataframe thead th {\n",
       "        text-align: right;\n",
       "    }\n",
       "</style>\n",
       "<table border=\"1\" class=\"dataframe\">\n",
       "  <thead>\n",
       "    <tr style=\"text-align: right;\">\n",
       "      <th></th>\n",
       "      <th>Gender</th>\n",
       "      <th>FSIQ</th>\n",
       "      <th>VIQ</th>\n",
       "      <th>PIQ</th>\n",
       "      <th>Weight</th>\n",
       "      <th>Height</th>\n",
       "      <th>MRI_Count</th>\n",
       "    </tr>\n",
       "  </thead>\n",
       "  <tbody>\n",
       "    <tr>\n",
       "      <th>38</th>\n",
       "      <td>Male</td>\n",
       "      <td>81</td>\n",
       "      <td>90</td>\n",
       "      <td>74</td>\n",
       "      <td>148.0</td>\n",
       "      <td>74.0</td>\n",
       "      <td>930016</td>\n",
       "    </tr>\n",
       "    <tr>\n",
       "      <th>39</th>\n",
       "      <td>Male</td>\n",
       "      <td>89</td>\n",
       "      <td>91</td>\n",
       "      <td>89</td>\n",
       "      <td>179.0</td>\n",
       "      <td>75.5</td>\n",
       "      <td>935863</td>\n",
       "    </tr>\n",
       "    <tr>\n",
       "      <th>17</th>\n",
       "      <td>Male</td>\n",
       "      <td>100</td>\n",
       "      <td>96</td>\n",
       "      <td>102</td>\n",
       "      <td>178.0</td>\n",
       "      <td>73.5</td>\n",
       "      <td>945088</td>\n",
       "    </tr>\n",
       "    <tr>\n",
       "      <th>32</th>\n",
       "      <td>Male</td>\n",
       "      <td>103</td>\n",
       "      <td>96</td>\n",
       "      <td>110</td>\n",
       "      <td>192.0</td>\n",
       "      <td>75.5</td>\n",
       "      <td>997925</td>\n",
       "    </tr>\n",
       "    <tr>\n",
       "      <th>27</th>\n",
       "      <td>Male</td>\n",
       "      <td>103</td>\n",
       "      <td>96</td>\n",
       "      <td>110</td>\n",
       "      <td>187.0</td>\n",
       "      <td>77.0</td>\n",
       "      <td>1062462</td>\n",
       "    </tr>\n",
       "  </tbody>\n",
       "</table>\n",
       "</div>"
      ],
      "text/plain": [
       "   Gender  FSIQ  VIQ  PIQ  Weight  Height  MRI_Count\n",
       "38   Male    81   90   74   148.0    74.0     930016\n",
       "39   Male    89   91   89   179.0    75.5     935863\n",
       "17   Male   100   96  102   178.0    73.5     945088\n",
       "32   Male   103   96  110   192.0    75.5     997925\n",
       "27   Male   103   96  110   187.0    77.0    1062462"
      ]
     },
     "execution_count": 7,
     "metadata": {},
     "output_type": "execute_result"
    }
   ],
   "source": [
    "both_sexes_less_103.sort_values(['MRI_Count']).tail()"
   ]
  },
  {
   "cell_type": "markdown",
   "metadata": {
    "hidden": true
   },
   "source": [
    "Студент, размер мозга которого вышел за интерквартильное расстояние, по остальным параметрам ничем не выделяется среди других студентом с бОльшим размером мозга. Значит, для анализа этот студент будет выбросом. Поэтому выброс удаляем"
   ]
  },
  {
   "cell_type": "code",
   "execution_count": 8,
   "metadata": {
    "hidden": true
   },
   "outputs": [],
   "source": [
    "both_sexes_less_103 = both_sexes_less_103.drop(27)"
   ]
  },
  {
   "cell_type": "markdown",
   "metadata": {
    "hidden": true
   },
   "source": [
    "Попробуем проанализировать гистограммы распределений для инстересующих нас переменных. Для удобства так же напишем функцию для вывода распределений"
   ]
  },
  {
   "cell_type": "code",
   "execution_count": 9,
   "metadata": {
    "hidden": true
   },
   "outputs": [],
   "source": [
    "def show_hists(less_103, more_130):\n",
    "    fig, axes = plt.subplots(nrows=2, ncols=2, figsize=(15, 8))\n",
    "    fs = 14\n",
    "\n",
    "    variables = ['FSIQ', 'MRI_Count']\n",
    "\n",
    "    for row in range(2):\n",
    "        variable = variables[row]\n",
    "        axes[row, 0].hist(less_103[variable],\n",
    "                          density=True,\n",
    "                          bins=math.ceil(1.72 *\n",
    "                                         math.pow(less_103.shape[0], 1 / 3)))\n",
    "        axes[row, 0].set_title(variable + ' for FSIQ < 103', fontsize=fs)\n",
    "\n",
    "        axes[row, 1].hist(more_130[variable],\n",
    "                          density=True,\n",
    "                          bins=math.ceil(1.72 *\n",
    "                                         math.pow(more_130.shape[0], 1 / 3)))\n",
    "        axes[row, 1].set_title(variable + ' for FSIQ > 130 ', fontsize=fs)\n",
    "\n",
    "    fig.subplots_adjust(wspace=0.6, hspace=0.2)\n",
    "    plt.show()"
   ]
  },
  {
   "cell_type": "code",
   "execution_count": 10,
   "metadata": {
    "hidden": true,
    "scrolled": false
   },
   "outputs": [
    {
     "data": {
      "image/png": "[encoded data removed]",
      "text/plain": [
       "<Figure size 1080x576 with 4 Axes>"
      ]
     },
     "metadata": {},
     "output_type": "display_data"
    }
   ],
   "source": [
    "show_hists(both_sexes_less_103, both_sexes_more_130)"
   ]
  },
  {
   "cell_type": "markdown",
   "metadata": {
    "hidden": true
   },
   "source": [
    "Гистограммы неоднородны, на трёх из четырёх графиков присутствует несколько пиков. Произошло это потому, что рассматриваются данные для студентов обоих полов одновременно. Если бы распределения у мужчин и женщин были бы одинаковыми, то распределения просто \"наложились\" бы друг на друга. Но на графиках мы видим будто смесь разных распределений."
   ]
  },
  {
   "cell_type": "markdown",
   "metadata": {
    "hidden": true
   },
   "source": [
    "При проверке гипотезы для коэффициента корреляции Пирсона предполагается, что распределения обеих величин нормальные. Проверим это.\n",
    "\n",
    "Для удобства так же напишем функцию"
   ]
  },
  {
   "cell_type": "code",
   "execution_count": 11,
   "metadata": {
    "hidden": true
   },
   "outputs": [],
   "source": [
    "#проверка данных на нормальность при помощи критерия Shapiro-Wilk\n",
    "def show_normality(less_103, more_130):\n",
    "    df_normality = pd.DataFrame(\n",
    "        {\n",
    "            'FSIQ for FSIQ<103': stats.shapiro(less_103[\"FSIQ\"]),\n",
    "            'FSIQ for FSIQ>130': stats.shapiro(more_130[\"FSIQ\"]),\n",
    "            'MRI_Count for FSIQ<103': stats.shapiro(less_103[\"MRI_Count\"]),\n",
    "            'MRI_Count for FSIQ>130': stats.shapiro(more_130[\"MRI_Count\"])\n",
    "        },\n",
    "        index=['Test statistic', 'The p-value for the hypothesis test'])\n",
    "    return df_normality"
   ]
  },
  {
   "cell_type": "code",
   "execution_count": 12,
   "metadata": {
    "hidden": true
   },
   "outputs": [
    {
     "data": {
      "text/html": [
       "<div>\n",
       "<style scoped>\n",
       "    .dataframe tbody tr th:only-of-type {\n",
       "        vertical-align: middle;\n",
       "    }\n",
       "\n",
       "    .dataframe tbody tr th {\n",
       "        vertical-align: top;\n",
       "    }\n",
       "\n",
       "    .dataframe thead th {\n",
       "        text-align: right;\n",
       "    }\n",
       "</style>\n",
       "<table border=\"1\" class=\"dataframe\">\n",
       "  <thead>\n",
       "    <tr style=\"text-align: right;\">\n",
       "      <th></th>\n",
       "      <th>FSIQ for FSIQ&lt;103</th>\n",
       "      <th>FSIQ for FSIQ&gt;130</th>\n",
       "      <th>MRI_Count for FSIQ&lt;103</th>\n",
       "      <th>MRI_Count for FSIQ&gt;130</th>\n",
       "    </tr>\n",
       "  </thead>\n",
       "  <tbody>\n",
       "    <tr>\n",
       "      <th>Test statistic</th>\n",
       "      <td>0.956181</td>\n",
       "      <td>0.927217</td>\n",
       "      <td>0.972948</td>\n",
       "      <td>0.956478</td>\n",
       "    </tr>\n",
       "    <tr>\n",
       "      <th>The p-value for the hypothesis test</th>\n",
       "      <td>0.499707</td>\n",
       "      <td>0.136488</td>\n",
       "      <td>0.833488</td>\n",
       "      <td>0.476107</td>\n",
       "    </tr>\n",
       "  </tbody>\n",
       "</table>\n",
       "</div>"
      ],
      "text/plain": [
       "                                     FSIQ for FSIQ<103  FSIQ for FSIQ>130  \\\n",
       "Test statistic                                0.956181           0.927217   \n",
       "The p-value for the hypothesis test           0.499707           0.136488   \n",
       "\n",
       "                                     MRI_Count for FSIQ<103  \\\n",
       "Test statistic                                     0.972948   \n",
       "The p-value for the hypothesis test                0.833488   \n",
       "\n",
       "                                     MRI_Count for FSIQ>130  \n",
       "Test statistic                                     0.956478  \n",
       "The p-value for the hypothesis test                0.476107  "
      ]
     },
     "execution_count": 12,
     "metadata": {},
     "output_type": "execute_result"
    }
   ],
   "source": [
    "show_normality(both_sexes_less_103, both_sexes_more_130)"
   ]
  },
  {
   "cell_type": "markdown",
   "metadata": {
    "hidden": true
   },
   "source": [
    "Ни одно из распределений не является нормальным при уровне значимости 5%"
   ]
  },
  {
   "cell_type": "markdown",
   "metadata": {
    "hidden": true
   },
   "source": [
    "Построим диаграммы рассеяния. Возможно, на них будет видна линейная зависимость между исследуемыми переменными. Построение диаграмм также оформим в виде функции"
   ]
  },
  {
   "cell_type": "code",
   "execution_count": 13,
   "metadata": {
    "hidden": true
   },
   "outputs": [],
   "source": [
    "def show_scatters(less_103, more_130):\n",
    "    fig, axes = plt.subplots(nrows=1, ncols=2, figsize=(8, 8))\n",
    "    fs = 14\n",
    "\n",
    "    variables = ['FSIQ', 'MRI_Count']\n",
    "\n",
    "    axes[0].scatter(less_103['FSIQ'], less_103['MRI_Count'])\n",
    "    axes[0].set_title('FSIQ and MRI_Count for FSIQ<103')\n",
    "\n",
    "    axes[1].scatter(more_130['FSIQ'], more_130['MRI_Count'])\n",
    "    axes[1].set_title('FSIQ and MRI_Count for FSIQ>130')\n",
    "\n",
    "    fig.subplots_adjust(wspace=0.6, hspace=0.2)\n",
    "    plt.show()"
   ]
  },
  {
   "cell_type": "code",
   "execution_count": 14,
   "metadata": {
    "hidden": true
   },
   "outputs": [
    {
     "data": {
      "image/png": "[encoded data removed]",
      "text/plain": [
       "<Figure size 576x576 with 2 Axes>"
      ]
     },
     "metadata": {},
     "output_type": "display_data"
    }
   ],
   "source": [
    "show_scatters(both_sexes_less_103, both_sexes_more_130)"
   ]
  },
  {
   "cell_type": "markdown",
   "metadata": {
    "hidden": true
   },
   "source": [
    "Из диаграмм видно, что даже если линейная зависимость есть, то в ней всё равно присутствуют значительные отклонения. Тем не менее попробуем посчитать коэффициенты корреляции Пирсона"
   ]
  },
  {
   "cell_type": "code",
   "execution_count": 15,
   "metadata": {
    "hidden": true
   },
   "outputs": [
    {
     "data": {
      "text/html": [
       "<div>\n",
       "<style scoped>\n",
       "    .dataframe tbody tr th:only-of-type {\n",
       "        vertical-align: middle;\n",
       "    }\n",
       "\n",
       "    .dataframe tbody tr th {\n",
       "        vertical-align: top;\n",
       "    }\n",
       "\n",
       "    .dataframe thead th {\n",
       "        text-align: right;\n",
       "    }\n",
       "</style>\n",
       "<table border=\"1\" class=\"dataframe\">\n",
       "  <thead>\n",
       "    <tr style=\"text-align: right;\">\n",
       "      <th></th>\n",
       "      <th>FSIQ and MRI_Count FSIQ&lt;103</th>\n",
       "      <th>FSIQ and MRI_Count FSIQ&gt;130</th>\n",
       "    </tr>\n",
       "  </thead>\n",
       "  <tbody>\n",
       "    <tr>\n",
       "      <th>Pearson’s correlation coefficient</th>\n",
       "      <td>0.414856</td>\n",
       "      <td>0.548285</td>\n",
       "    </tr>\n",
       "    <tr>\n",
       "      <th>2-tailed p-value</th>\n",
       "      <td>0.077372</td>\n",
       "      <td>0.012314</td>\n",
       "    </tr>\n",
       "  </tbody>\n",
       "</table>\n",
       "</div>"
      ],
      "text/plain": [
       "                                   FSIQ and MRI_Count FSIQ<103  \\\n",
       "Pearson’s correlation coefficient                     0.414856   \n",
       "2-tailed p-value                                      0.077372   \n",
       "\n",
       "                                   FSIQ and MRI_Count FSIQ>130  \n",
       "Pearson’s correlation coefficient                     0.548285  \n",
       "2-tailed p-value                                      0.012314  "
      ]
     },
     "execution_count": 15,
     "metadata": {},
     "output_type": "execute_result"
    }
   ],
   "source": [
    "df_Pearson = pd.DataFrame(\n",
    "    {\n",
    "        'FSIQ and MRI_Count FSIQ<103':\n",
    "        stats.pearsonr(both_sexes_less_103[\"FSIQ\"],\n",
    "                       both_sexes_less_103[\"MRI_Count\"]),\n",
    "        'FSIQ and MRI_Count FSIQ>130':\n",
    "        stats.pearsonr(both_sexes_more_130[\"FSIQ\"],\n",
    "                       both_sexes_more_130[\"MRI_Count\"])\n",
    "    },\n",
    "    index=['Pearson’s correlation coefficient', '2-tailed p-value'])\n",
    "df_Pearson"
   ]
  },
  {
   "cell_type": "markdown",
   "metadata": {
    "hidden": true
   },
   "source": [
    "Видим умеренную корреляцию у выборки из обоих полов с FSIQ$\\leq$103. Эта корреляция статистически не значимая.\n",
    "\n",
    "###### Корреляция у выборки с FSIQ$\\geq$130 заметная и является статистически значимой. "
   ]
  },
  {
   "cell_type": "markdown",
   "metadata": {
    "hidden": true
   },
   "source": [
    "Так как распределения не нормальные, полагаться на коэффициент корреляции Пирсона опасно. Поэтому на всякий случай воспользуемся коэффициентом корреляции Спирмена."
   ]
  },
  {
   "cell_type": "code",
   "execution_count": 16,
   "metadata": {
    "hidden": true
   },
   "outputs": [
    {
     "data": {
      "text/html": [
       "<div>\n",
       "<style scoped>\n",
       "    .dataframe tbody tr th:only-of-type {\n",
       "        vertical-align: middle;\n",
       "    }\n",
       "\n",
       "    .dataframe tbody tr th {\n",
       "        vertical-align: top;\n",
       "    }\n",
       "\n",
       "    .dataframe thead th {\n",
       "        text-align: right;\n",
       "    }\n",
       "</style>\n",
       "<table border=\"1\" class=\"dataframe\">\n",
       "  <thead>\n",
       "    <tr style=\"text-align: right;\">\n",
       "      <th></th>\n",
       "      <th>FSIQ and MRI_Count FSIQ&lt;103</th>\n",
       "      <th>FSIQ and MRI_Count FSIQ&gt;130</th>\n",
       "    </tr>\n",
       "  </thead>\n",
       "  <tbody>\n",
       "    <tr>\n",
       "      <th>Spearman’s correlation coefficient</th>\n",
       "      <td>0.328792</td>\n",
       "      <td>0.474191</td>\n",
       "    </tr>\n",
       "    <tr>\n",
       "      <th>2-tailed p-value</th>\n",
       "      <td>0.169303</td>\n",
       "      <td>0.034659</td>\n",
       "    </tr>\n",
       "  </tbody>\n",
       "</table>\n",
       "</div>"
      ],
      "text/plain": [
       "                                    FSIQ and MRI_Count FSIQ<103  \\\n",
       "Spearman’s correlation coefficient                     0.328792   \n",
       "2-tailed p-value                                       0.169303   \n",
       "\n",
       "                                    FSIQ and MRI_Count FSIQ>130  \n",
       "Spearman’s correlation coefficient                     0.474191  \n",
       "2-tailed p-value                                       0.034659  "
      ]
     },
     "execution_count": 16,
     "metadata": {},
     "output_type": "execute_result"
    }
   ],
   "source": [
    "df_Spearman = pd.DataFrame(\n",
    "    {\n",
    "        'FSIQ and MRI_Count FSIQ<103':\n",
    "        stats.spearmanr(both_sexes_less_103[\"FSIQ\"],\n",
    "                        both_sexes_less_103[\"MRI_Count\"]),\n",
    "        'FSIQ and MRI_Count FSIQ>130':\n",
    "        stats.spearmanr(both_sexes_more_130[\"FSIQ\"],\n",
    "                        both_sexes_more_130[\"MRI_Count\"])\n",
    "    },\n",
    "    index=['Spearman’s correlation coefficient', '2-tailed p-value'])\n",
    "df_Spearman"
   ]
  },
  {
   "cell_type": "markdown",
   "metadata": {
    "hidden": true
   },
   "source": [
    "Результат почти такой же, как и при применении формулы Пирсона. Вывод остаётся тем же"
   ]
  },
  {
   "cell_type": "markdown",
   "metadata": {
    "heading_collapsed": true
   },
   "source": [
    "## Sample containing men only"
   ]
  },
  {
   "cell_type": "markdown",
   "metadata": {
    "hidden": true
   },
   "source": [
    "Разделим данные на две подгруппы:мужчины с общим уровнем интеллекта $\\leq$ 103 и соответственно $\\geq$ 130"
   ]
  },
  {
   "cell_type": "code",
   "execution_count": 17,
   "metadata": {
    "hidden": true
   },
   "outputs": [],
   "source": [
    "both_sexes_less_103 = df_raw[df_raw['FSIQ'] <= 103]\n",
    "both_sexes_more_130 = df_raw[df_raw['FSIQ'] >= 130]\n",
    "\n",
    "men_less_103 = both_sexes_less_103[both_sexes_less_103['Gender'] == 'Male']\n",
    "men_more_130 = both_sexes_more_130[both_sexes_more_130['Gender'] == 'Male']"
   ]
  },
  {
   "cell_type": "markdown",
   "metadata": {
    "hidden": true
   },
   "source": [
    "Проверим данные на наличие выбросов. Проверка происходит по каждой переменной для обеих подгрупп"
   ]
  },
  {
   "cell_type": "code",
   "execution_count": 18,
   "metadata": {
    "hidden": true
   },
   "outputs": [
    {
     "data": {
      "image/png": "[encoded data removed]",
      "text/plain": [
       "<Figure size 576x720 with 4 Axes>"
      ]
     },
     "metadata": {},
     "output_type": "display_data"
    }
   ],
   "source": [
    "show_boxplots(men_less_103, men_more_130)"
   ]
  },
  {
   "cell_type": "markdown",
   "metadata": {
    "hidden": true
   },
   "source": [
    "Выбросы присутствуют у переменной \"MRI_Count\" в обеих подгруппах. Отсекать их не будем, так как выборки и без того очень маленькие."
   ]
  },
  {
   "cell_type": "markdown",
   "metadata": {
    "hidden": true
   },
   "source": [
    "Попробуем проанализировать гистограммы распределений переменных"
   ]
  },
  {
   "cell_type": "code",
   "execution_count": 19,
   "metadata": {
    "hidden": true,
    "scrolled": false
   },
   "outputs": [
    {
     "data": {
      "image/png": "[encoded data removed]",
      "text/plain": [
       "<Figure size 1080x576 with 4 Axes>"
      ]
     },
     "metadata": {},
     "output_type": "display_data"
    }
   ],
   "source": [
    "show_hists(men_less_103, men_more_130)"
   ]
  },
  {
   "cell_type": "markdown",
   "metadata": {
    "hidden": true
   },
   "source": [
    "Снова распределения не напоминают нормальные. Проверим по критерию Шапиро-Вилк"
   ]
  },
  {
   "cell_type": "code",
   "execution_count": 20,
   "metadata": {
    "hidden": true
   },
   "outputs": [
    {
     "data": {
      "text/html": [
       "<div>\n",
       "<style scoped>\n",
       "    .dataframe tbody tr th:only-of-type {\n",
       "        vertical-align: middle;\n",
       "    }\n",
       "\n",
       "    .dataframe tbody tr th {\n",
       "        vertical-align: top;\n",
       "    }\n",
       "\n",
       "    .dataframe thead th {\n",
       "        text-align: right;\n",
       "    }\n",
       "</style>\n",
       "<table border=\"1\" class=\"dataframe\">\n",
       "  <thead>\n",
       "    <tr style=\"text-align: right;\">\n",
       "      <th></th>\n",
       "      <th>FSIQ for FSIQ&lt;103</th>\n",
       "      <th>FSIQ for FSIQ&gt;130</th>\n",
       "      <th>MRI_Count for FSIQ&lt;103</th>\n",
       "      <th>MRI_Count for FSIQ&gt;130</th>\n",
       "    </tr>\n",
       "  </thead>\n",
       "  <tbody>\n",
       "    <tr>\n",
       "      <th>Test statistic</th>\n",
       "      <td>0.904474</td>\n",
       "      <td>0.896143</td>\n",
       "      <td>0.844282</td>\n",
       "      <td>0.843383</td>\n",
       "    </tr>\n",
       "    <tr>\n",
       "      <th>The p-value for the hypothesis test</th>\n",
       "      <td>0.245149</td>\n",
       "      <td>0.198636</td>\n",
       "      <td>0.049649</td>\n",
       "      <td>0.048436</td>\n",
       "    </tr>\n",
       "  </tbody>\n",
       "</table>\n",
       "</div>"
      ],
      "text/plain": [
       "                                     FSIQ for FSIQ<103  FSIQ for FSIQ>130  \\\n",
       "Test statistic                                0.904474           0.896143   \n",
       "The p-value for the hypothesis test           0.245149           0.198636   \n",
       "\n",
       "                                     MRI_Count for FSIQ<103  \\\n",
       "Test statistic                                     0.844282   \n",
       "The p-value for the hypothesis test                0.049649   \n",
       "\n",
       "                                     MRI_Count for FSIQ>130  \n",
       "Test statistic                                     0.843383  \n",
       "The p-value for the hypothesis test                0.048436  "
      ]
     },
     "execution_count": 20,
     "metadata": {},
     "output_type": "execute_result"
    }
   ],
   "source": [
    "show_normality(men_less_103, men_more_130)"
   ]
  },
  {
   "cell_type": "markdown",
   "metadata": {
    "hidden": true
   },
   "source": [
    "Преобразование Бокса-Кокса и логарифмирование не дали результатов (здесь не приведены), поэтому в данном пункте имеем два нормальных распределения при уровне значимости 5%: MRI_Count для обеих подгрупп"
   ]
  },
  {
   "cell_type": "markdown",
   "metadata": {
    "hidden": true
   },
   "source": [
    "Построим диаграммы рассеяния. Возможно, на них будет видна линейная зависимость между исследуюмыми переменными."
   ]
  },
  {
   "cell_type": "code",
   "execution_count": 21,
   "metadata": {
    "hidden": true
   },
   "outputs": [
    {
     "data": {
      "image/png": "[encoded data removed]",
      "text/plain": [
       "<Figure size 576x576 with 2 Axes>"
      ]
     },
     "metadata": {},
     "output_type": "display_data"
    }
   ],
   "source": [
    "show_scatters(men_less_103, men_more_130)"
   ]
  },
  {
   "cell_type": "markdown",
   "metadata": {
    "hidden": true
   },
   "source": [
    "Данных крайне мало, но некоторая линейность прослеживается в обеих группах"
   ]
  },
  {
   "cell_type": "markdown",
   "metadata": {
    "hidden": true
   },
   "source": [
    "Попробуем посчитать коэффициенты корреляции Пирсона"
   ]
  },
  {
   "cell_type": "code",
   "execution_count": 22,
   "metadata": {
    "hidden": true,
    "scrolled": false
   },
   "outputs": [
    {
     "data": {
      "text/html": [
       "<div>\n",
       "<style scoped>\n",
       "    .dataframe tbody tr th:only-of-type {\n",
       "        vertical-align: middle;\n",
       "    }\n",
       "\n",
       "    .dataframe tbody tr th {\n",
       "        vertical-align: top;\n",
       "    }\n",
       "\n",
       "    .dataframe thead th {\n",
       "        text-align: right;\n",
       "    }\n",
       "</style>\n",
       "<table border=\"1\" class=\"dataframe\">\n",
       "  <thead>\n",
       "    <tr style=\"text-align: right;\">\n",
       "      <th></th>\n",
       "      <th>FSIQ and MRI_Count FSIQ&lt;103</th>\n",
       "      <th>FSIQ and MRI_Count FSIQ&gt;130</th>\n",
       "    </tr>\n",
       "  </thead>\n",
       "  <tbody>\n",
       "    <tr>\n",
       "      <th>Pearson’s correlation coefficient</th>\n",
       "      <td>0.714624</td>\n",
       "      <td>0.236100</td>\n",
       "    </tr>\n",
       "    <tr>\n",
       "      <th>2-tailed p-value</th>\n",
       "      <td>0.020213</td>\n",
       "      <td>0.511372</td>\n",
       "    </tr>\n",
       "  </tbody>\n",
       "</table>\n",
       "</div>"
      ],
      "text/plain": [
       "                                   FSIQ and MRI_Count FSIQ<103  \\\n",
       "Pearson’s correlation coefficient                     0.714624   \n",
       "2-tailed p-value                                      0.020213   \n",
       "\n",
       "                                   FSIQ and MRI_Count FSIQ>130  \n",
       "Pearson’s correlation coefficient                     0.236100  \n",
       "2-tailed p-value                                      0.511372  "
      ]
     },
     "execution_count": 22,
     "metadata": {},
     "output_type": "execute_result"
    }
   ],
   "source": [
    "df_Pearson = pd.DataFrame(\n",
    "    {\n",
    "        'FSIQ and MRI_Count FSIQ<103':\n",
    "        stats.pearsonr(men_less_103[\"FSIQ\"], men_less_103[\"MRI_Count\"]),\n",
    "        'FSIQ and MRI_Count FSIQ>130':\n",
    "        stats.pearsonr(men_more_130[\"FSIQ\"], men_more_130[\"MRI_Count\"])\n",
    "    },\n",
    "    index=['Pearson’s correlation coefficient', '2-tailed p-value'])\n",
    "df_Pearson"
   ]
  },
  {
   "cell_type": "markdown",
   "metadata": {
    "hidden": true
   },
   "source": [
    "###### В данном пункте заметна высокая корреляция между размером мозга и интеллектом у группы мужчин с уровнем интеллекта$\\leq$103.\n",
    "\n",
    "Значения коэффициентов достаточно хорошо выражены, поэтому применять другие критерии корреляции не будем."
   ]
  },
  {
   "cell_type": "markdown",
   "metadata": {},
   "source": [
    "## ## Sample containing women only"
   ]
  },
  {
   "cell_type": "markdown",
   "metadata": {},
   "source": [
    "Разделим данные на две подгруппы:женщины с общим уровнем интеллекта $\\leq$ 103 и соответственно $\\geq$ 130"
   ]
  },
  {
   "cell_type": "code",
   "execution_count": 23,
   "metadata": {},
   "outputs": [],
   "source": [
    "both_sexes_less_103 = df_raw[df_raw['FSIQ'] <= 103]\n",
    "both_sexes_more_130 = df_raw[df_raw['FSIQ'] >= 130]\n",
    "\n",
    "women_less_103 = both_sexes_less_103[both_sexes_less_103['Gender'] == 'Female']\n",
    "women_more_130 = both_sexes_more_130[both_sexes_more_130['Gender'] == 'Female']"
   ]
  },
  {
   "cell_type": "markdown",
   "metadata": {},
   "source": [
    "Проверим данные на наличие выбросов. Проверка происходит по каждой переменной для обеих групп"
   ]
  },
  {
   "cell_type": "code",
   "execution_count": 24,
   "metadata": {},
   "outputs": [
    {
     "data": {
      "image/png": "[encoded data removed]",
      "text/plain": [
       "<Figure size 576x720 with 4 Axes>"
      ]
     },
     "metadata": {},
     "output_type": "display_data"
    }
   ],
   "source": [
    "show_boxplots(women_less_103, women_more_130)"
   ]
  },
  {
   "cell_type": "markdown",
   "metadata": {},
   "source": [
    "Выбросов нет. Попробуем проанализировать гистограммы распределений переменных"
   ]
  },
  {
   "cell_type": "code",
   "execution_count": 25,
   "metadata": {},
   "outputs": [
    {
     "data": {
      "image/png": "[encoded data removed]",
      "text/plain": [
       "<Figure size 1080x576 with 4 Axes>"
      ]
     },
     "metadata": {},
     "output_type": "display_data"
    }
   ],
   "source": [
    "show_hists(women_less_103, women_more_130)"
   ]
  },
  {
   "cell_type": "markdown",
   "metadata": {},
   "source": [
    "И опять распределения не напоминают нормальные. Проверим по критерию Шапиро-Вилк"
   ]
  },
  {
   "cell_type": "code",
   "execution_count": 26,
   "metadata": {},
   "outputs": [
    {
     "data": {
      "text/html": [
       "<div>\n",
       "<style scoped>\n",
       "    .dataframe tbody tr th:only-of-type {\n",
       "        vertical-align: middle;\n",
       "    }\n",
       "\n",
       "    .dataframe tbody tr th {\n",
       "        vertical-align: top;\n",
       "    }\n",
       "\n",
       "    .dataframe thead th {\n",
       "        text-align: right;\n",
       "    }\n",
       "</style>\n",
       "<table border=\"1\" class=\"dataframe\">\n",
       "  <thead>\n",
       "    <tr style=\"text-align: right;\">\n",
       "      <th></th>\n",
       "      <th>FSIQ for FSIQ&lt;103</th>\n",
       "      <th>FSIQ for FSIQ&gt;130</th>\n",
       "      <th>MRI_Count for FSIQ&lt;103</th>\n",
       "      <th>MRI_Count for FSIQ&gt;130</th>\n",
       "    </tr>\n",
       "  </thead>\n",
       "  <tbody>\n",
       "    <tr>\n",
       "      <th>Test statistic</th>\n",
       "      <td>0.968863</td>\n",
       "      <td>0.925200</td>\n",
       "      <td>0.958474</td>\n",
       "      <td>0.905037</td>\n",
       "    </tr>\n",
       "    <tr>\n",
       "      <th>The p-value for the hypothesis test</th>\n",
       "      <td>0.880107</td>\n",
       "      <td>0.402367</td>\n",
       "      <td>0.768347</td>\n",
       "      <td>0.248606</td>\n",
       "    </tr>\n",
       "  </tbody>\n",
       "</table>\n",
       "</div>"
      ],
      "text/plain": [
       "                                     FSIQ for FSIQ<103  FSIQ for FSIQ>130  \\\n",
       "Test statistic                                0.968863           0.925200   \n",
       "The p-value for the hypothesis test           0.880107           0.402367   \n",
       "\n",
       "                                     MRI_Count for FSIQ<103  \\\n",
       "Test statistic                                     0.958474   \n",
       "The p-value for the hypothesis test                0.768347   \n",
       "\n",
       "                                     MRI_Count for FSIQ>130  \n",
       "Test statistic                                     0.905037  \n",
       "The p-value for the hypothesis test                0.248606  "
      ]
     },
     "execution_count": 26,
     "metadata": {},
     "output_type": "execute_result"
    }
   ],
   "source": [
    "show_normality(women_less_103, women_more_130)"
   ]
  },
  {
   "cell_type": "markdown",
   "metadata": {},
   "source": [
    "В данном пункте нет ни одного нормального распределения, будем учитывать это при использовании коэффициента Пирсона. Построим диаграммы рассеяния. "
   ]
  },
  {
   "cell_type": "code",
   "execution_count": 27,
   "metadata": {},
   "outputs": [
    {
     "data": {
      "image/png": "[encoded data removed]",
      "text/plain": [
       "<Figure size 576x576 with 2 Axes>"
      ]
     },
     "metadata": {},
     "output_type": "display_data"
    }
   ],
   "source": [
    "show_scatters(women_less_103, women_more_130)"
   ]
  },
  {
   "cell_type": "markdown",
   "metadata": {},
   "source": [
    "На обоих графика прослеживается очень слабая линейность"
   ]
  },
  {
   "cell_type": "markdown",
   "metadata": {},
   "source": [
    "Попробуем посчитать коэффициенты корреляции Пирсона"
   ]
  },
  {
   "cell_type": "code",
   "execution_count": 28,
   "metadata": {},
   "outputs": [
    {
     "data": {
      "text/html": [
       "<div>\n",
       "<style scoped>\n",
       "    .dataframe tbody tr th:only-of-type {\n",
       "        vertical-align: middle;\n",
       "    }\n",
       "\n",
       "    .dataframe tbody tr th {\n",
       "        vertical-align: top;\n",
       "    }\n",
       "\n",
       "    .dataframe thead th {\n",
       "        text-align: right;\n",
       "    }\n",
       "</style>\n",
       "<table border=\"1\" class=\"dataframe\">\n",
       "  <thead>\n",
       "    <tr style=\"text-align: right;\">\n",
       "      <th></th>\n",
       "      <th>FSIQ and MRI_Count FSIQ&lt;103</th>\n",
       "      <th>FSIQ and MRI_Count FSIQ&gt;130</th>\n",
       "    </tr>\n",
       "  </thead>\n",
       "  <tbody>\n",
       "    <tr>\n",
       "      <th>Pearson’s correlation coefficient</th>\n",
       "      <td>0.428870</td>\n",
       "      <td>0.359098</td>\n",
       "    </tr>\n",
       "    <tr>\n",
       "      <th>2-tailed p-value</th>\n",
       "      <td>0.216192</td>\n",
       "      <td>0.308171</td>\n",
       "    </tr>\n",
       "  </tbody>\n",
       "</table>\n",
       "</div>"
      ],
      "text/plain": [
       "                                   FSIQ and MRI_Count FSIQ<103  \\\n",
       "Pearson’s correlation coefficient                     0.428870   \n",
       "2-tailed p-value                                      0.216192   \n",
       "\n",
       "                                   FSIQ and MRI_Count FSIQ>130  \n",
       "Pearson’s correlation coefficient                     0.359098  \n",
       "2-tailed p-value                                      0.308171  "
      ]
     },
     "execution_count": 28,
     "metadata": {},
     "output_type": "execute_result"
    }
   ],
   "source": [
    "df_Pearson = pd.DataFrame(\n",
    "    {\n",
    "        'FSIQ and MRI_Count FSIQ<103':\n",
    "        stats.pearsonr(women_less_103[\"FSIQ\"], women_less_103[\"MRI_Count\"]),\n",
    "        'FSIQ and MRI_Count FSIQ>130':\n",
    "        stats.pearsonr(women_more_130[\"FSIQ\"], women_more_130[\"MRI_Count\"])\n",
    "    },\n",
    "    index=['Pearson’s correlation coefficient', '2-tailed p-value'])\n",
    "df_Pearson"
   ]
  },
  {
   "cell_type": "markdown",
   "metadata": {},
   "source": [
    "Ни одна пара не имеет статистически значимой корреляции. Но распределения не нормальные, поэтому попробуем воспользоваться коэффициентом корреляции Спирмена."
   ]
  },
  {
   "cell_type": "code",
   "execution_count": 29,
   "metadata": {},
   "outputs": [
    {
     "data": {
      "text/html": [
       "<div>\n",
       "<style scoped>\n",
       "    .dataframe tbody tr th:only-of-type {\n",
       "        vertical-align: middle;\n",
       "    }\n",
       "\n",
       "    .dataframe tbody tr th {\n",
       "        vertical-align: top;\n",
       "    }\n",
       "\n",
       "    .dataframe thead th {\n",
       "        text-align: right;\n",
       "    }\n",
       "</style>\n",
       "<table border=\"1\" class=\"dataframe\">\n",
       "  <thead>\n",
       "    <tr style=\"text-align: right;\">\n",
       "      <th></th>\n",
       "      <th>FSIQ and MRI_Count FSIQ&lt;103</th>\n",
       "      <th>FSIQ and MRI_Count FSIQ&gt;130</th>\n",
       "    </tr>\n",
       "  </thead>\n",
       "  <tbody>\n",
       "    <tr>\n",
       "      <th>Spearman’s correlation coefficient</th>\n",
       "      <td>0.382980</td>\n",
       "      <td>0.258492</td>\n",
       "    </tr>\n",
       "    <tr>\n",
       "      <th>2-tailed p-value</th>\n",
       "      <td>0.274673</td>\n",
       "      <td>0.470840</td>\n",
       "    </tr>\n",
       "  </tbody>\n",
       "</table>\n",
       "</div>"
      ],
      "text/plain": [
       "                                    FSIQ and MRI_Count FSIQ<103  \\\n",
       "Spearman’s correlation coefficient                     0.382980   \n",
       "2-tailed p-value                                       0.274673   \n",
       "\n",
       "                                    FSIQ and MRI_Count FSIQ>130  \n",
       "Spearman’s correlation coefficient                     0.258492  \n",
       "2-tailed p-value                                       0.470840  "
      ]
     },
     "execution_count": 29,
     "metadata": {},
     "output_type": "execute_result"
    }
   ],
   "source": [
    "df_Spearman = pd.DataFrame(\n",
    "    {\n",
    "        'FSIQ and MRI_Count FSIQ<103':\n",
    "        stats.spearmanr(women_less_103[\"FSIQ\"], women_less_103[\"MRI_Count\"]),\n",
    "        'FSIQ and MRI_Count FSIQ>130':\n",
    "        stats.spearmanr(women_more_130[\"FSIQ\"], women_more_130[\"MRI_Count\"])\n",
    "    },\n",
    "    index=['Spearman’s correlation coefficient', '2-tailed p-value'])\n",
    "df_Spearman"
   ]
  },
  {
   "cell_type": "markdown",
   "metadata": {},
   "source": [
    "У женщин статистически значимых корреляций между уровнем интеллекта и размером мозга не наблюдается"
   ]
  },
  {
   "cell_type": "markdown",
   "metadata": {},
   "source": [
    "# Conclusion\n",
    "\n",
    "Статистически значимые корреляции между размером мозга и уровнем интеллекта были обнаружены у выборки из обоих полов с FSIQ$\\geq$130, а также у группы мужчин с уровнем интеллекта$\\leq$103.  "
   ]
  }
 ],
 "metadata": {
  "kernelspec": {
   "display_name": "Python 3",
   "language": "python",
   "name": "python3"
  },
  "language_info": {
   "codemirror_mode": {
    "name": "ipython",
    "version": 3
   },
   "file_extension": ".py",
   "mimetype": "text/x-python",
   "name": "python",
   "nbconvert_exporter": "python",
   "pygments_lexer": "ipython3",
   "version": "3.6.9"
  },
  "latex_envs": {
   "LaTeX_envs_menu_present": true,
   "autoclose": false,
   "autocomplete": true,
   "bibliofile": "biblio.bib",
   "cite_by": "apalike",
   "current_citInitial": 1,
   "eqLabelWithNumbers": true,
   "eqNumInitial": 1,
   "hotkeys": {
    "equation": "Ctrl-E",
    "itemize": "Ctrl-I"
   },
   "labels_anchors": false,
   "latex_user_defs": false,
   "report_style_numbering": false,
   "user_envs_cfg": false
  },
  "toc": {
   "base_numbering": 1,
   "nav_menu": {},
   "number_sections": true,
   "sideBar": true,
   "skip_h1_title": false,
   "title_cell": "Table of Contents",
   "title_sidebar": "Contents",
   "toc_cell": false,
   "toc_position": {
    "height": "calc(100% - 180px)",
    "left": "10px",
    "top": "150px",
    "width": "384px"
   },
   "toc_section_display": true,
   "toc_window_display": true
  },
  "varInspector": {
   "cols": {
    "lenName": 16,
    "lenType": 16,
    "lenVar": 40
   },
   "kernels_config": {
    "python": {
     "delete_cmd_postfix": "",
     "delete_cmd_prefix": "del ",
     "library": "var_list.py",
     "varRefreshCmd": "print(var_dic_list())"
    },
    "r": {
     "delete_cmd_postfix": ") ",
     "delete_cmd_prefix": "rm(",
     "library": "var_list.r",
     "varRefreshCmd": "cat(var_dic_list()) "
    }
   },
   "types_to_exclude": [
    "module",
    "function",
    "builtin_function_or_method",
    "instance",
    "_Feature"
   ],
   "window_display": false
  }
 },
 "nbformat": 4,
 "nbformat_minor": 2
}
