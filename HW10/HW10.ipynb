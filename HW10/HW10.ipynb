{
 "cells": [
  {
   "cell_type": "markdown",
   "metadata": {
    "colab_type": "text",
    "id": "Dxza_YVePVQc"
   },
   "source": [
    "# Library import"
   ]
  },
  {
   "cell_type": "code",
   "execution_count": 1,
   "metadata": {
    "colab": {},
    "colab_type": "code",
    "id": "OOuQ8VjEPVQc"
   },
   "outputs": [],
   "source": [
    "import pandas as pd\n",
    "import matplotlib.pyplot as plt\n",
    "import numpy as np\n",
    "from tqdm import tqdm\n",
    "import seaborn as sns\n",
    "import os\n",
    "\n",
    "%matplotlib inline\n",
    "\n",
    "from sklearn.ensemble import RandomForestRegressor\n",
    "import sklearn\n",
    "from sklearn.metrics import mean_squared_error\n",
    "\n",
    "# IDK why I used this library that time \n",
    "import surprise\n",
    "from surprise import Dataset, Reader\n",
    "from surprise import evaluate, accuracy\n",
    "from surprise import SVD, NMF, SlopeOne, KNNBasic\n",
    "from surprise import model_selection # import cross_validate, KFold"
   ]
  },
  {
   "cell_type": "markdown",
   "metadata": {
    "colab_type": "text",
    "id": "XuRgYZSkPVQh"
   },
   "source": [
    "# Data loading and previewing"
   ]
  },
  {
   "cell_type": "code",
   "execution_count": 2,
   "metadata": {
    "colab": {},
    "colab_type": "code",
    "id": "j6lYpz22PVQh"
   },
   "outputs": [],
   "source": [
    "data_path = \"D:\\Data\\ml-20m\""
   ]
  },
  {
   "cell_type": "markdown",
   "metadata": {
    "colab_type": "text",
    "id": "Ist-5GaTPVQj"
   },
   "source": [
    "## Ratings.csv"
   ]
  },
  {
   "cell_type": "code",
   "execution_count": 3,
   "metadata": {
    "colab": {},
    "colab_type": "code",
    "id": "X-ZfMYbfPVQl",
    "outputId": "97d85a9d-5e4f-4f15-ec72-2e763cd9cb00"
   },
   "outputs": [
    {
     "name": "stdout",
     "output_type": "stream",
     "text": [
      "ratings shape: (20000263, 4)\n"
     ]
    },
    {
     "data": {
      "text/html": [
       "<div>\n",
       "<style scoped>\n",
       "    .dataframe tbody tr th:only-of-type {\n",
       "        vertical-align: middle;\n",
       "    }\n",
       "\n",
       "    .dataframe tbody tr th {\n",
       "        vertical-align: top;\n",
       "    }\n",
       "\n",
       "    .dataframe thead th {\n",
       "        text-align: right;\n",
       "    }\n",
       "</style>\n",
       "<table border=\"1\" class=\"dataframe\">\n",
       "  <thead>\n",
       "    <tr style=\"text-align: right;\">\n",
       "      <th></th>\n",
       "      <th>userId</th>\n",
       "      <th>movieId</th>\n",
       "      <th>rating</th>\n",
       "      <th>timestamp</th>\n",
       "    </tr>\n",
       "  </thead>\n",
       "  <tbody>\n",
       "    <tr>\n",
       "      <th>0</th>\n",
       "      <td>1</td>\n",
       "      <td>2</td>\n",
       "      <td>3.5</td>\n",
       "      <td>1112486027</td>\n",
       "    </tr>\n",
       "    <tr>\n",
       "      <th>1</th>\n",
       "      <td>1</td>\n",
       "      <td>29</td>\n",
       "      <td>3.5</td>\n",
       "      <td>1112484676</td>\n",
       "    </tr>\n",
       "    <tr>\n",
       "      <th>2</th>\n",
       "      <td>1</td>\n",
       "      <td>32</td>\n",
       "      <td>3.5</td>\n",
       "      <td>1112484819</td>\n",
       "    </tr>\n",
       "    <tr>\n",
       "      <th>3</th>\n",
       "      <td>1</td>\n",
       "      <td>47</td>\n",
       "      <td>3.5</td>\n",
       "      <td>1112484727</td>\n",
       "    </tr>\n",
       "    <tr>\n",
       "      <th>4</th>\n",
       "      <td>1</td>\n",
       "      <td>50</td>\n",
       "      <td>3.5</td>\n",
       "      <td>1112484580</td>\n",
       "    </tr>\n",
       "  </tbody>\n",
       "</table>\n",
       "</div>"
      ],
      "text/plain": [
       "   userId  movieId  rating   timestamp\n",
       "0       1        2     3.5  1112486027\n",
       "1       1       29     3.5  1112484676\n",
       "2       1       32     3.5  1112484819\n",
       "3       1       47     3.5  1112484727\n",
       "4       1       50     3.5  1112484580"
      ]
     },
     "execution_count": 3,
     "metadata": {},
     "output_type": "execute_result"
    }
   ],
   "source": [
    "# load ratings\n",
    "ratings = pd.read_csv(os.path.join(data_path, \"ratings.csv\"))\n",
    "\n",
    "print('ratings shape:', ratings.shape)\n",
    "ratings.head()"
   ]
  },
  {
   "cell_type": "code",
   "execution_count": 4,
   "metadata": {
    "colab": {},
    "colab_type": "code",
    "id": "9WgNuO8GPVQq",
    "outputId": "32cb96d7-b6f5-4bf0-b044-61bbcbc01fcd"
   },
   "outputs": [
    {
     "name": "stdout",
     "output_type": "stream",
     "text": [
      "unique users: 138493\n"
     ]
    }
   ],
   "source": [
    "print('unique users:', ratings['userId'].unique().shape[0])"
   ]
  },
  {
   "cell_type": "code",
   "execution_count": 5,
   "metadata": {
    "colab": {},
    "colab_type": "code",
    "id": "9WgNuO8GPVQq",
    "outputId": "32cb96d7-b6f5-4bf0-b044-61bbcbc01fcd"
   },
   "outputs": [
    {
     "name": "stdout",
     "output_type": "stream",
     "text": [
      "unique movies: 26744\n"
     ]
    }
   ],
   "source": [
    "print('unique movies:', ratings['movieId'].unique().shape[0])"
   ]
  },
  {
   "cell_type": "code",
   "execution_count": 6,
   "metadata": {
    "colab": {},
    "colab_type": "code",
    "id": "F_OeltBIPVQv",
    "outputId": "efc38dc2-abd0-4b45-f5c8-70c2e6289299"
   },
   "outputs": [
    {
     "data": {
      "text/plain": [
       "'na in ratings\\n'"
      ]
     },
     "metadata": {},
     "output_type": "display_data"
    },
    {
     "data": {
      "text/plain": [
       "userId       0\n",
       "movieId      0\n",
       "rating       0\n",
       "timestamp    0\n",
       "dtype: int64"
      ]
     },
     "metadata": {},
     "output_type": "display_data"
    },
    {
     "data": {
      "text/plain": [
       "'\\nnull values in ratings\\n'"
      ]
     },
     "metadata": {},
     "output_type": "display_data"
    },
    {
     "data": {
      "text/plain": [
       "userId       0\n",
       "movieId      0\n",
       "rating       0\n",
       "timestamp    0\n",
       "dtype: int64"
      ]
     },
     "metadata": {},
     "output_type": "display_data"
    }
   ],
   "source": [
    "# check if there are missing values and na's\n",
    "display('na in ratings\\n', ratings.isna().sum())\n",
    "display('\\nnull values in ratings\\n', ratings.isnull().sum())"
   ]
  },
  {
   "cell_type": "code",
   "execution_count": 7,
   "metadata": {
    "colab": {},
    "colab_type": "code",
    "id": "Qj8amdhEPVQy",
    "outputId": "c7b69a97-b19b-44c5-838d-8710c3bf36a2"
   },
   "outputs": [
    {
     "data": {
      "text/plain": [
       "118205    9254\n",
       "8405      7515\n",
       "82418     5646\n",
       "121535    5520\n",
       "125794    5491\n",
       "74142     5447\n",
       "34576     5356\n",
       "131904    5330\n",
       "83090     5169\n",
       "59477     4988\n",
       "Name: userId, dtype: int64"
      ]
     },
     "execution_count": 7,
     "metadata": {},
     "output_type": "execute_result"
    }
   ],
   "source": [
    "# users who watched the most movies\n",
    "ratings[\"userId\"].value_counts().head(10)"
   ]
  },
  {
   "cell_type": "code",
   "execution_count": 8,
   "metadata": {
    "colab": {},
    "colab_type": "code",
    "id": "oZ7Z2yc0PVQ2",
    "outputId": "63987197-c024-4a82-9892-a36a97305b11"
   },
   "outputs": [
    {
     "data": {
      "text/plain": [
       "138322    20\n",
       "89146     20\n",
       "92146     20\n",
       "105507    20\n",
       "18290     20\n",
       "59390     20\n",
       "23558     20\n",
       "34668     20\n",
       "80291     20\n",
       "58028     20\n",
       "Name: userId, dtype: int64"
      ]
     },
     "execution_count": 8,
     "metadata": {},
     "output_type": "execute_result"
    }
   ],
   "source": [
    "# users who watched the least number of movies\n",
    "ratings[\"userId\"].value_counts().tail(10)"
   ]
  },
  {
   "cell_type": "markdown",
   "metadata": {
    "colab_type": "text",
    "id": "5w7wls06PVQ7"
   },
   "source": [
    "As declared, there are only users with at least 20 reviews."
   ]
  },
  {
   "cell_type": "markdown",
   "metadata": {
    "colab_type": "text",
    "id": "jEVabCIAPVQ8"
   },
   "source": [
    "## Movies.csv"
   ]
  },
  {
   "cell_type": "code",
   "execution_count": 9,
   "metadata": {
    "colab": {},
    "colab_type": "code",
    "id": "OqDkLdNdPVQ9",
    "outputId": "883fd4de-716c-4f0e-ebb3-ae39d991190c"
   },
   "outputs": [
    {
     "name": "stdout",
     "output_type": "stream",
     "text": [
      "movies shape: (27278, 3)\n"
     ]
    },
    {
     "data": {
      "text/html": [
       "<div>\n",
       "<style scoped>\n",
       "    .dataframe tbody tr th:only-of-type {\n",
       "        vertical-align: middle;\n",
       "    }\n",
       "\n",
       "    .dataframe tbody tr th {\n",
       "        vertical-align: top;\n",
       "    }\n",
       "\n",
       "    .dataframe thead th {\n",
       "        text-align: right;\n",
       "    }\n",
       "</style>\n",
       "<table border=\"1\" class=\"dataframe\">\n",
       "  <thead>\n",
       "    <tr style=\"text-align: right;\">\n",
       "      <th></th>\n",
       "      <th>movieId</th>\n",
       "      <th>title</th>\n",
       "      <th>genres</th>\n",
       "    </tr>\n",
       "  </thead>\n",
       "  <tbody>\n",
       "    <tr>\n",
       "      <th>0</th>\n",
       "      <td>1</td>\n",
       "      <td>Toy Story (1995)</td>\n",
       "      <td>Adventure|Animation|Children|Comedy|Fantasy</td>\n",
       "    </tr>\n",
       "    <tr>\n",
       "      <th>1</th>\n",
       "      <td>2</td>\n",
       "      <td>Jumanji (1995)</td>\n",
       "      <td>Adventure|Children|Fantasy</td>\n",
       "    </tr>\n",
       "    <tr>\n",
       "      <th>2</th>\n",
       "      <td>3</td>\n",
       "      <td>Grumpier Old Men (1995)</td>\n",
       "      <td>Comedy|Romance</td>\n",
       "    </tr>\n",
       "    <tr>\n",
       "      <th>3</th>\n",
       "      <td>4</td>\n",
       "      <td>Waiting to Exhale (1995)</td>\n",
       "      <td>Comedy|Drama|Romance</td>\n",
       "    </tr>\n",
       "    <tr>\n",
       "      <th>4</th>\n",
       "      <td>5</td>\n",
       "      <td>Father of the Bride Part II (1995)</td>\n",
       "      <td>Comedy</td>\n",
       "    </tr>\n",
       "  </tbody>\n",
       "</table>\n",
       "</div>"
      ],
      "text/plain": [
       "   movieId                               title  \\\n",
       "0        1                    Toy Story (1995)   \n",
       "1        2                      Jumanji (1995)   \n",
       "2        3             Grumpier Old Men (1995)   \n",
       "3        4            Waiting to Exhale (1995)   \n",
       "4        5  Father of the Bride Part II (1995)   \n",
       "\n",
       "                                        genres  \n",
       "0  Adventure|Animation|Children|Comedy|Fantasy  \n",
       "1                   Adventure|Children|Fantasy  \n",
       "2                               Comedy|Romance  \n",
       "3                         Comedy|Drama|Romance  \n",
       "4                                       Comedy  "
      ]
     },
     "execution_count": 9,
     "metadata": {},
     "output_type": "execute_result"
    }
   ],
   "source": [
    "# load movies\n",
    "movies = pd.read_csv(os.path.join(data_path, \"movies.csv\"))\n",
    "\n",
    "print('movies shape:', movies.shape)\n",
    "movies.head()"
   ]
  },
  {
   "cell_type": "markdown",
   "metadata": {},
   "source": [
    "As we see from the number of movies in the movies table, not all movies are presented in the ratings table (probably because of filtering)"
   ]
  },
  {
   "cell_type": "code",
   "execution_count": 10,
   "metadata": {
    "colab": {},
    "colab_type": "code",
    "id": "tCr50ZbNPVRG",
    "outputId": "2df660f6-291d-487b-b422-204697fa1791"
   },
   "outputs": [
    {
     "data": {
      "text/plain": [
       "'na in movies\\n'"
      ]
     },
     "metadata": {},
     "output_type": "display_data"
    },
    {
     "data": {
      "text/plain": [
       "movieId    0\n",
       "title      0\n",
       "genres     0\n",
       "dtype: int64"
      ]
     },
     "metadata": {},
     "output_type": "display_data"
    },
    {
     "data": {
      "text/plain": [
       "'\\nnull values in movies\\n'"
      ]
     },
     "metadata": {},
     "output_type": "display_data"
    },
    {
     "data": {
      "text/plain": [
       "movieId    0\n",
       "title      0\n",
       "genres     0\n",
       "dtype: int64"
      ]
     },
     "metadata": {},
     "output_type": "display_data"
    }
   ],
   "source": [
    "# check if there are missing values and na's\n",
    "display('na in movies\\n', movies.isna().sum())\n",
    "display('\\nnull values in movies\\n', movies.isnull().sum())"
   ]
  },
  {
   "cell_type": "markdown",
   "metadata": {
    "colab_type": "text",
    "id": "PBDynbwtPVRL"
   },
   "source": [
    "## EDA"
   ]
  },
  {
   "cell_type": "code",
   "execution_count": 11,
   "metadata": {
    "colab": {},
    "colab_type": "code",
    "id": "UknPO-e9PVRO",
    "outputId": "3221e7fc-ec4d-4974-a607-5214eced2158"
   },
   "outputs": [
    {
     "name": "stdout",
     "output_type": "stream",
     "text": [
      "Wall time: 4.52 s\n"
     ]
    },
    {
     "data": {
      "text/html": [
       "<div>\n",
       "<style scoped>\n",
       "    .dataframe tbody tr th:only-of-type {\n",
       "        vertical-align: middle;\n",
       "    }\n",
       "\n",
       "    .dataframe tbody tr th {\n",
       "        vertical-align: top;\n",
       "    }\n",
       "\n",
       "    .dataframe thead th {\n",
       "        text-align: right;\n",
       "    }\n",
       "</style>\n",
       "<table border=\"1\" class=\"dataframe\">\n",
       "  <thead>\n",
       "    <tr style=\"text-align: right;\">\n",
       "      <th></th>\n",
       "      <th>userId</th>\n",
       "      <th>movieId</th>\n",
       "      <th>rating</th>\n",
       "      <th>timestamp</th>\n",
       "      <th>title</th>\n",
       "      <th>genres</th>\n",
       "    </tr>\n",
       "  </thead>\n",
       "  <tbody>\n",
       "    <tr>\n",
       "      <th>0</th>\n",
       "      <td>1</td>\n",
       "      <td>2</td>\n",
       "      <td>3.5</td>\n",
       "      <td>1112486027</td>\n",
       "      <td>Jumanji (1995)</td>\n",
       "      <td>Adventure|Children|Fantasy</td>\n",
       "    </tr>\n",
       "    <tr>\n",
       "      <th>1</th>\n",
       "      <td>5</td>\n",
       "      <td>2</td>\n",
       "      <td>3.0</td>\n",
       "      <td>851527569</td>\n",
       "      <td>Jumanji (1995)</td>\n",
       "      <td>Adventure|Children|Fantasy</td>\n",
       "    </tr>\n",
       "    <tr>\n",
       "      <th>2</th>\n",
       "      <td>13</td>\n",
       "      <td>2</td>\n",
       "      <td>3.0</td>\n",
       "      <td>849082742</td>\n",
       "      <td>Jumanji (1995)</td>\n",
       "      <td>Adventure|Children|Fantasy</td>\n",
       "    </tr>\n",
       "  </tbody>\n",
       "</table>\n",
       "</div>"
      ],
      "text/plain": [
       "   userId  movieId  rating   timestamp           title  \\\n",
       "0       1        2     3.5  1112486027  Jumanji (1995)   \n",
       "1       5        2     3.0   851527569  Jumanji (1995)   \n",
       "2      13        2     3.0   849082742  Jumanji (1995)   \n",
       "\n",
       "                       genres  \n",
       "0  Adventure|Children|Fantasy  \n",
       "1  Adventure|Children|Fantasy  \n",
       "2  Adventure|Children|Fantasy  "
      ]
     },
     "execution_count": 11,
     "metadata": {},
     "output_type": "execute_result"
    }
   ],
   "source": [
    "%%time\n",
    "\n",
    "ratings_titles = pd.merge(ratings, movies, on='movieId')\n",
    "ratings_titles.head(3)"
   ]
  },
  {
   "cell_type": "code",
   "execution_count": 12,
   "metadata": {
    "colab": {},
    "colab_type": "code",
    "id": "UknPO-e9PVRO",
    "outputId": "3221e7fc-ec4d-4974-a607-5214eced2158"
   },
   "outputs": [
    {
     "data": {
      "text/plain": [
       "Pulp Fiction (1994)                                                               67310\n",
       "Forrest Gump (1994)                                                               66172\n",
       "Shawshank Redemption, The (1994)                                                  63366\n",
       "Silence of the Lambs, The (1991)                                                  63299\n",
       "Jurassic Park (1993)                                                              59715\n",
       "Star Wars: Episode IV - A New Hope (1977)                                         54502\n",
       "Braveheart (1995)                                                                 53769\n",
       "Terminator 2: Judgment Day (1991)                                                 52244\n",
       "Matrix, The (1999)                                                                51334\n",
       "Schindler's List (1993)                                                           50054\n",
       "Toy Story (1995)                                                                  49695\n",
       "Fugitive, The (1993)                                                              49581\n",
       "Apollo 13 (1995)                                                                  47777\n",
       "Independence Day (a.k.a. ID4) (1996)                                              47048\n",
       "Usual Suspects, The (1995)                                                        47006\n",
       "Star Wars: Episode VI - Return of the Jedi (1983)                                 46839\n",
       "Batman (1989)                                                                     46054\n",
       "Star Wars: Episode V - The Empire Strikes Back (1980)                             45313\n",
       "American Beauty (1999)                                                            44987\n",
       "Twelve Monkeys (a.k.a. 12 Monkeys) (1995)                                         44980\n",
       "Dances with Wolves (1990)                                                         44208\n",
       "Raiders of the Lost Ark (Indiana Jones and the Raiders of the Lost Ark) (1981)    43295\n",
       "Fargo (1996)                                                                      43272\n",
       "Seven (a.k.a. Se7en) (1995)                                                       43249\n",
       "True Lies (1994)                                                                  43159\n",
       "Name: title, dtype: int64"
      ]
     },
     "execution_count": 12,
     "metadata": {},
     "output_type": "execute_result"
    }
   ],
   "source": [
    "ratings_titles.title.value_counts()[:25]"
   ]
  },
  {
   "cell_type": "code",
   "execution_count": 13,
   "metadata": {
    "colab": {},
    "colab_type": "code",
    "id": "gU4LRvfLPVRQ",
    "outputId": "977baf95-bc5b-4878-d874-df1de1f29a7c"
   },
   "outputs": [
    {
     "data": {
      "text/html": [
       "<div>\n",
       "<style scoped>\n",
       "    .dataframe tbody tr th:only-of-type {\n",
       "        vertical-align: middle;\n",
       "    }\n",
       "\n",
       "    .dataframe tbody tr th {\n",
       "        vertical-align: top;\n",
       "    }\n",
       "\n",
       "    .dataframe thead tr th {\n",
       "        text-align: left;\n",
       "    }\n",
       "\n",
       "    .dataframe thead tr:last-of-type th {\n",
       "        text-align: right;\n",
       "    }\n",
       "</style>\n",
       "<table border=\"1\" class=\"dataframe\">\n",
       "  <thead>\n",
       "    <tr>\n",
       "      <th></th>\n",
       "      <th colspan=\"2\" halign=\"left\">rating</th>\n",
       "    </tr>\n",
       "    <tr>\n",
       "      <th></th>\n",
       "      <th>size</th>\n",
       "      <th>mean</th>\n",
       "    </tr>\n",
       "    <tr>\n",
       "      <th>title</th>\n",
       "      <th></th>\n",
       "      <th></th>\n",
       "    </tr>\n",
       "  </thead>\n",
       "  <tbody>\n",
       "    <tr>\n",
       "      <th>Shawshank Redemption, The (1994)</th>\n",
       "      <td>63366.0</td>\n",
       "      <td>4.446990</td>\n",
       "    </tr>\n",
       "    <tr>\n",
       "      <th>Godfather, The (1972)</th>\n",
       "      <td>41355.0</td>\n",
       "      <td>4.364732</td>\n",
       "    </tr>\n",
       "    <tr>\n",
       "      <th>Usual Suspects, The (1995)</th>\n",
       "      <td>47006.0</td>\n",
       "      <td>4.334372</td>\n",
       "    </tr>\n",
       "    <tr>\n",
       "      <th>Schindler's List (1993)</th>\n",
       "      <td>50054.0</td>\n",
       "      <td>4.310175</td>\n",
       "    </tr>\n",
       "    <tr>\n",
       "      <th>Godfather: Part II, The (1974)</th>\n",
       "      <td>27398.0</td>\n",
       "      <td>4.275641</td>\n",
       "    </tr>\n",
       "    <tr>\n",
       "      <th>Seven Samurai (Shichinin no samurai) (1954)</th>\n",
       "      <td>11611.0</td>\n",
       "      <td>4.274180</td>\n",
       "    </tr>\n",
       "    <tr>\n",
       "      <th>Rear Window (1954)</th>\n",
       "      <td>17449.0</td>\n",
       "      <td>4.271334</td>\n",
       "    </tr>\n",
       "    <tr>\n",
       "      <th>Band of Brothers (2001)</th>\n",
       "      <td>4305.0</td>\n",
       "      <td>4.263182</td>\n",
       "    </tr>\n",
       "    <tr>\n",
       "      <th>Casablanca (1942)</th>\n",
       "      <td>24349.0</td>\n",
       "      <td>4.258327</td>\n",
       "    </tr>\n",
       "    <tr>\n",
       "      <th>Sunset Blvd. (a.k.a. Sunset Boulevard) (1950)</th>\n",
       "      <td>6525.0</td>\n",
       "      <td>4.256935</td>\n",
       "    </tr>\n",
       "    <tr>\n",
       "      <th>One Flew Over the Cuckoo's Nest (1975)</th>\n",
       "      <td>29932.0</td>\n",
       "      <td>4.248079</td>\n",
       "    </tr>\n",
       "    <tr>\n",
       "      <th>Dr. Strangelove or: How I Learned to Stop Worrying and Love the Bomb (1964)</th>\n",
       "      <td>23220.0</td>\n",
       "      <td>4.247287</td>\n",
       "    </tr>\n",
       "    <tr>\n",
       "      <th>Third Man, The (1949)</th>\n",
       "      <td>6565.0</td>\n",
       "      <td>4.246002</td>\n",
       "    </tr>\n",
       "    <tr>\n",
       "      <th>City of God (Cidade de Deus) (2002)</th>\n",
       "      <td>12937.0</td>\n",
       "      <td>4.235410</td>\n",
       "    </tr>\n",
       "    <tr>\n",
       "      <th>Lives of Others, The (Das leben der Anderen) (2006)</th>\n",
       "      <td>5720.0</td>\n",
       "      <td>4.234790</td>\n",
       "    </tr>\n",
       "  </tbody>\n",
       "</table>\n",
       "</div>"
      ],
      "text/plain": [
       "                                                     rating          \n",
       "                                                       size      mean\n",
       "title                                                                \n",
       "Shawshank Redemption, The (1994)                    63366.0  4.446990\n",
       "Godfather, The (1972)                               41355.0  4.364732\n",
       "Usual Suspects, The (1995)                          47006.0  4.334372\n",
       "Schindler's List (1993)                             50054.0  4.310175\n",
       "Godfather: Part II, The (1974)                      27398.0  4.275641\n",
       "Seven Samurai (Shichinin no samurai) (1954)         11611.0  4.274180\n",
       "Rear Window (1954)                                  17449.0  4.271334\n",
       "Band of Brothers (2001)                              4305.0  4.263182\n",
       "Casablanca (1942)                                   24349.0  4.258327\n",
       "Sunset Blvd. (a.k.a. Sunset Boulevard) (1950)        6525.0  4.256935\n",
       "One Flew Over the Cuckoo's Nest (1975)              29932.0  4.248079\n",
       "Dr. Strangelove or: How I Learned to Stop Worry...  23220.0  4.247287\n",
       "Third Man, The (1949)                                6565.0  4.246002\n",
       "City of God (Cidade de Deus) (2002)                 12937.0  4.235410\n",
       "Lives of Others, The (Das leben der Anderen) (2...   5720.0  4.234790"
      ]
     },
     "execution_count": 13,
     "metadata": {},
     "output_type": "execute_result"
    }
   ],
   "source": [
    "# top-15 movies with the highest average ratings\n",
    "# in case if film has at least 1000 ratings\n",
    "movie_stats = ratings_titles.groupby('title').agg({'rating': [np.size, np.mean]})\n",
    "atleast_1000 = movie_stats['rating']['size'] >= 1000\n",
    "movie_stats[atleast_1000].sort_values([('rating', 'mean')], ascending=False)[:15]"
   ]
  },
  {
   "cell_type": "markdown",
   "metadata": {
    "colab_type": "text",
    "id": "3nx75c36PVRU"
   },
   "source": [
    "If the coldstart problem will exist, we could recommend users to watch the most popular movies "
   ]
  },
  {
   "cell_type": "markdown",
   "metadata": {
    "colab_type": "text",
    "id": "0HcW86sXPVRW"
   },
   "source": [
    "## Preprocessing"
   ]
  },
  {
   "cell_type": "code",
   "execution_count": 26,
   "metadata": {
    "colab": {},
    "colab_type": "code",
    "id": "sJEmhg_tPVRW"
   },
   "outputs": [],
   "source": [
    "# sort ratings by time to make smt like TimeSeriesSplit\n",
    "sorted_ratings = ratings.sort_values(by='timestamp')\n",
    "\n",
    "train_ratings, test_ratings = sklearn.model_selection.train_test_split(sorted_ratings, \n",
    "                                                                       test_size=0.2, \n",
    "                                                                       shuffle=False)\n",
    "\n",
    "train_dataset = Dataset.load_from_df(\n",
    "    train_ratings[['userId', 'movieId', 'rating']],\n",
    "    reader=Reader(line_format='user item rating'))\n",
    "\n",
    "test_dataset = Dataset.load_from_df(\n",
    "    test_ratings[['userId', 'movieId', 'rating']],\n",
    "    reader=Reader(line_format='user item rating'))"
   ]
  },
  {
   "cell_type": "code",
   "execution_count": 27,
   "metadata": {
    "colab": {},
    "colab_type": "code",
    "id": "aRP20dNdPVRZ",
    "scrolled": true
   },
   "outputs": [],
   "source": [
    "# raw_ratings = sorted_ratings_data.raw_ratings\n",
    "\n",
    "\n",
    "\n",
    "# # sorted_ratings_data.raw_ratings = train_raw_ratings  # data is now the set A"
   ]
  },
  {
   "cell_type": "markdown",
   "metadata": {},
   "source": [
    "## Evaluation"
   ]
  },
  {
   "cell_type": "code",
   "execution_count": 28,
   "metadata": {
    "colab": {},
    "colab_type": "code",
    "id": "ta4O5Y0EPVRc"
   },
   "outputs": [],
   "source": [
    "def algo_evaluating(algorithm, train_dataset, test_dataset, n_splits=5):\n",
    "    kf = model_selection.KFold(n_splits=n_splits, shuffle=False)\n",
    "\n",
    "#     rmse_list = []\n",
    "#     mae_list = []\n",
    "#     for trainset, testset in tqdm(kf.split(train_dataset), total=n_splits):\n",
    "#         algorithm.fit(trainset)\n",
    "#         predictions = algorithm.test(testset)\n",
    "#         rmse_list.append(accuracy.rmse(predictions, verbose=True))\n",
    "#         mae_list.append(accuracy.mae(predictions, verbose=True))\n",
    "\n",
    "#     print(\"\\nRMSE mean:{:0.3f}\\n      std:{:0.3f}\".format(\n",
    "#         np.mean(rmse_list), np.std(rmse_list)))\n",
    "#     print(\"\\nMAE mean:{:0.3f}\\n      std:{:0.3f}\".format(\n",
    "#         np.mean(mae_list), np.std(mae_list)))\n",
    "\n",
    "    model_selection.cross_validate(algorithm, \n",
    "                                   train_dataset,\n",
    "                                   measures=['RMSE', 'MAE'], \n",
    "                                   cv=kf, \n",
    "                                   verbose=True,\n",
    "                                   n_jobs=-1)\n",
    "\n",
    "    # Compute unbiased accuracy on test\n",
    "#     testset = train_dataset.construct_testset(test_dataset) \n",
    "#     predictions = algorithm.test(testset)\n",
    "    predictions = algorithm.test(test_dataset)\n",
    "    rmse = accuracy.rmse(predictions)\n",
    "    mae = accuracy.mae(predictions)\n",
    "    return rmse, mae"
   ]
  },
  {
   "cell_type": "markdown",
   "metadata": {
    "colab_type": "text",
    "id": "L7uiPoX4PVRV"
   },
   "source": [
    "# Collaborative filtering "
   ]
  },
  {
   "cell_type": "markdown",
   "metadata": {
    "colab_type": "text",
    "id": "qruPTorHPVRf"
   },
   "source": [
    "## Model based approach"
   ]
  },
  {
   "cell_type": "markdown",
   "metadata": {
    "colab_type": "text",
    "id": "9sTngxm6PVRg"
   },
   "source": [
    "### SVD"
   ]
  },
  {
   "cell_type": "code",
   "execution_count": null,
   "metadata": {
    "colab": {},
    "colab_type": "code",
    "id": "kghVz_vmPVRh",
    "outputId": "c3bd8000-03a1-4205-a46e-70eb1968ac2e",
    "scrolled": true
   },
   "outputs": [],
   "source": [
    "%%time\n",
    "algo = SVD(verbose=True)\n",
    "SVD_rmse, SVD_mae = algo_evaluating(algo,\n",
    "                                    train_dataset,\n",
    "                                    test_dataset)"
   ]
  },
  {
   "cell_type": "markdown",
   "metadata": {
    "colab_type": "text",
    "id": "-bqvTjTUPVRk"
   },
   "source": [
    "### NMF"
   ]
  },
  {
   "cell_type": "code",
   "execution_count": 0,
   "metadata": {
    "colab": {},
    "colab_type": "code",
    "id": "r2FbyxURPVRl",
    "outputId": "92b5fbe7-5726-4196-ae52-7d629e1bcdd8",
    "scrolled": false
   },
   "outputs": [
    {
     "name": "stdout",
     "output_type": "stream",
     "text": [
      "1 -fold\n",
      "RMSE: 1.0229\n",
      "MAE:  0.8517\n",
      "2 -fold\n",
      "RMSE: 1.0790\n",
      "MAE:  0.8932\n",
      "3 -fold\n",
      "RMSE: 1.0144\n",
      "MAE:  0.8062\n",
      "4 -fold\n",
      "RMSE: 0.9793\n",
      "MAE:  0.7453\n",
      "5 -fold\n",
      "RMSE: 1.0059\n",
      "MAE:  0.7722\n",
      "\n",
      "RMSE mean:1.020\n",
      "      std:0.033\n",
      "\n",
      "MAE mean:0.814\n",
      "      std:0.053\n",
      "\n",
      "Unbiased scores:\n",
      "RMSE: 1.0158\n",
      "MAE:  0.7865\n",
      "Wall time: 1h 8min 51s\n"
     ]
    }
   ],
   "source": [
    "%%time\n",
    "algo = NMF()\n",
    "NMF_rmse, NMF_mae = algo_evaluating(algo)"
   ]
  },
  {
   "cell_type": "markdown",
   "metadata": {
    "colab_type": "text",
    "id": "0DqSDGFdPVRo"
   },
   "source": [
    "### SlopeOne"
   ]
  },
  {
   "cell_type": "code",
   "execution_count": 0,
   "metadata": {
    "colab": {},
    "colab_type": "code",
    "id": "mOPLIs3IPVRp",
    "outputId": "da6c1be4-e6be-4970-fd18-b54b6afe0315"
   },
   "outputs": [
    {
     "name": "stdout",
     "output_type": "stream",
     "text": [
      "1 -fold\n",
      "RMSE: 1.0216\n",
      "MAE:  0.8503\n",
      "2 -fold\n",
      "RMSE: 1.0747\n",
      "MAE:  0.8887\n",
      "3 -fold\n",
      "RMSE: 1.0099\n",
      "MAE:  0.8011\n",
      "4 -fold\n",
      "RMSE: 0.9757\n",
      "MAE:  0.7407\n",
      "5 -fold\n",
      "RMSE: 1.0049\n",
      "MAE:  0.7713\n",
      "\n",
      "RMSE mean:1.017\n",
      "      std:0.032\n",
      "\n",
      "MAE mean:0.810\n",
      "      std:0.053\n",
      "\n",
      "Unbiased scores:\n",
      "RMSE: 1.0156\n",
      "MAE:  0.7863\n",
      "Wall time: 49min 40s\n"
     ]
    }
   ],
   "source": [
    "%%time\n",
    "algo = SlopeOne()\n",
    "Slope_rmse, Slope_mae = algo_evaluating(algo)"
   ]
  },
  {
   "cell_type": "code",
   "execution_count": 0,
   "metadata": {
    "colab": {},
    "colab_type": "code",
    "id": "bPTjMENdPVRr"
   },
   "outputs": [],
   "source": [
    "model_based_results = pd.DataFrame({\n",
    "    'Slope One': [Slope_rmse, Slope_rmse],\n",
    "    'NMF': [NMF_rmse, NMF_mae],\n",
    "    'SVD': [SVD_rmse, SVD_mae]\n",
    "})\n",
    "model_based_results.rename({0: \"RMSE\"}, axis='index', inplace=True)\n",
    "model_based_results.rename({1: \"MAE\"}, axis='index', inplace=True)\n",
    "\n",
    "os.chdir(HW_path)\n",
    "model_based_results.to_csv(\"model_based_results\", sep='\\t')"
   ]
  },
  {
   "cell_type": "code",
   "execution_count": 0,
   "metadata": {
    "colab": {},
    "colab_type": "code",
    "id": "OC48BZdlPVRv",
    "outputId": "d8d5806b-43dd-47a3-8bca-298a84e42173"
   },
   "outputs": [
    {
     "data": {
      "text/html": [
       "<div>\n",
       "<style scoped>\n",
       "    .dataframe tbody tr th:only-of-type {\n",
       "        vertical-align: middle;\n",
       "    }\n",
       "\n",
       "    .dataframe tbody tr th {\n",
       "        vertical-align: top;\n",
       "    }\n",
       "\n",
       "    .dataframe thead th {\n",
       "        text-align: right;\n",
       "    }\n",
       "</style>\n",
       "<table border=\"1\" class=\"dataframe\">\n",
       "  <thead>\n",
       "    <tr style=\"text-align: right;\">\n",
       "      <th></th>\n",
       "      <th>Slope One</th>\n",
       "      <th>NMF</th>\n",
       "      <th>SVD</th>\n",
       "    </tr>\n",
       "  </thead>\n",
       "  <tbody>\n",
       "    <tr>\n",
       "      <th>RMSE</th>\n",
       "      <td>1.015577</td>\n",
       "      <td>1.015824</td>\n",
       "      <td>0.951603</td>\n",
       "    </tr>\n",
       "    <tr>\n",
       "      <th>MAE</th>\n",
       "      <td>1.015577</td>\n",
       "      <td>0.786550</td>\n",
       "      <td>0.731323</td>\n",
       "    </tr>\n",
       "  </tbody>\n",
       "</table>\n",
       "</div>"
      ],
      "text/plain": [
       "      Slope One       NMF       SVD\n",
       "RMSE   1.015577  1.015824  0.951603\n",
       "MAE    1.015577  0.786550  0.731323"
      ]
     },
     "execution_count": 70,
     "metadata": {
      "tags": []
     },
     "output_type": "execute_result"
    }
   ],
   "source": [
    "#os.chdir(HW_path)\n",
    "#model_based_results = pd.read_csv('model_based_results', sep='\\t', index_col=0)\n",
    "model_based_results"
   ]
  },
  {
   "cell_type": "markdown",
   "metadata": {
    "colab_type": "text",
    "id": "5zrCOsjaPVRx"
   },
   "source": [
    "## Memory based approach"
   ]
  },
  {
   "cell_type": "markdown",
   "metadata": {
    "colab_type": "text",
    "id": "qv3KbDCkPVRz"
   },
   "source": [
    "### Item-based"
   ]
  },
  {
   "cell_type": "code",
   "execution_count": 0,
   "metadata": {
    "colab": {},
    "colab_type": "code",
    "id": "kfLcoLcfPVRz",
    "outputId": "e84ee161-da9f-4f3e-8c09-81e8abd6e310"
   },
   "outputs": [
    {
     "name": "stdout",
     "output_type": "stream",
     "text": [
      "1 -fold\n",
      "RMSE: 1.0338\n",
      "MAE:  0.8593\n",
      "2 -fold\n",
      "RMSE: 1.1074\n",
      "MAE:  0.9153\n",
      "3 -fold\n",
      "RMSE: 1.0565\n",
      "MAE:  0.8373\n",
      "4 -fold\n",
      "RMSE: 1.0186\n",
      "MAE:  0.7749\n",
      "5 -fold\n",
      "RMSE: 1.0154\n",
      "MAE:  0.7803\n",
      "\n",
      "RMSE mean:1.046\n",
      "      std:0.034\n",
      "\n",
      "MAE mean:0.833\n",
      "      std:0.052\n",
      "\n",
      "Unbiased scores:\n",
      "RMSE: 1.0179\n",
      "MAE:  0.7882\n",
      "Wall time: 1h 39min 22s\n"
     ]
    }
   ],
   "source": [
    "%%time\n",
    "sim_options = {\n",
    "    'name': 'cosine',\n",
    "    'user_based': False\n",
    "}\n",
    "algo = KNNBasic(k=50, sim_options=sim_options, verbose=False)\n",
    "Item_KNN_rmse, Item_KNN_mae = algo_evaluating(algo)"
   ]
  },
  {
   "cell_type": "code",
   "execution_count": 0,
   "metadata": {
    "colab": {},
    "colab_type": "code",
    "id": "u1RVzeh6PVR3"
   },
   "outputs": [],
   "source": [
    "model_based_results = model_based_results.assign(Item_KNN = [Item_KNN_rmse, Item_KNN_mae])\n",
    "\n",
    "os.chdir(HW_path)\n",
    "model_based_results.to_csv(\"model_based_results\", sep='\\t')"
   ]
  },
  {
   "cell_type": "code",
   "execution_count": 0,
   "metadata": {
    "colab": {},
    "colab_type": "code",
    "id": "gAC5_0p-PVR7",
    "outputId": "b8e7cd07-9be1-4661-9b14-55adf10ceb39"
   },
   "outputs": [
    {
     "data": {
      "text/html": [
       "<div>\n",
       "<style scoped>\n",
       "    .dataframe tbody tr th:only-of-type {\n",
       "        vertical-align: middle;\n",
       "    }\n",
       "\n",
       "    .dataframe tbody tr th {\n",
       "        vertical-align: top;\n",
       "    }\n",
       "\n",
       "    .dataframe thead th {\n",
       "        text-align: right;\n",
       "    }\n",
       "</style>\n",
       "<table border=\"1\" class=\"dataframe\">\n",
       "  <thead>\n",
       "    <tr style=\"text-align: right;\">\n",
       "      <th></th>\n",
       "      <th>Slope One</th>\n",
       "      <th>NMF</th>\n",
       "      <th>SVD</th>\n",
       "      <th>Item_KNN</th>\n",
       "    </tr>\n",
       "  </thead>\n",
       "  <tbody>\n",
       "    <tr>\n",
       "      <th>RMSE</th>\n",
       "      <td>1.015577</td>\n",
       "      <td>1.015824</td>\n",
       "      <td>0.951603</td>\n",
       "      <td>1.017933</td>\n",
       "    </tr>\n",
       "    <tr>\n",
       "      <th>MAE</th>\n",
       "      <td>1.015577</td>\n",
       "      <td>0.786550</td>\n",
       "      <td>0.731323</td>\n",
       "      <td>0.788244</td>\n",
       "    </tr>\n",
       "  </tbody>\n",
       "</table>\n",
       "</div>"
      ],
      "text/plain": [
       "      Slope One       NMF       SVD  Item_KNN\n",
       "RMSE   1.015577  1.015824  0.951603  1.017933\n",
       "MAE    1.015577  0.786550  0.731323  0.788244"
      ]
     },
     "execution_count": 23,
     "metadata": {
      "tags": []
     },
     "output_type": "execute_result"
    }
   ],
   "source": [
    "#os.chdir(HW_path)\n",
    "#model_based_results = pd.read_csv('model_based_results', sep='\\t', index_col=0)\n",
    "model_based_results"
   ]
  },
  {
   "cell_type": "markdown",
   "metadata": {
    "colab_type": "text",
    "id": "D27TaQ7UPVR_"
   },
   "source": [
    "### User-based"
   ]
  },
  {
   "cell_type": "markdown",
   "metadata": {
    "colab_type": "text",
    "id": "FUN6bEvXPVR_"
   },
   "source": [
    "Due to problems with memory we had to leave only 5% of dataset"
   ]
  },
  {
   "cell_type": "code",
   "execution_count": 0,
   "metadata": {
    "colab": {},
    "colab_type": "code",
    "id": "U9Z0TKgTPVSA",
    "outputId": "9f22527e-8f00-488e-e12a-6517f37d6ae5"
   },
   "outputs": [
    {
     "name": "stdout",
     "output_type": "stream",
     "text": [
      "1 -fold\n",
      "RMSE: 1.0219\n",
      "MAE:  0.8517\n",
      "2 -fold\n",
      "RMSE: 0.9974\n",
      "MAE:  0.8221\n",
      "3 -fold\n",
      "RMSE: 0.9897\n",
      "MAE:  0.8172\n",
      "4 -fold\n",
      "RMSE: 0.9788\n",
      "MAE:  0.8112\n",
      "5 -fold\n",
      "RMSE: 0.9799\n",
      "MAE:  0.8169\n",
      "\n",
      "RMSE mean:0.994\n",
      "      std:0.016\n",
      "\n",
      "MAE mean:0.824\n",
      "      std:0.014\n",
      "\n",
      "Unbiased scores:\n",
      "RMSE: 0.9791\n",
      "MAE:  0.8158\n",
      "Wall time: 34min 18s\n"
     ]
    }
   ],
   "source": [
    "%%time\n",
    "sorted_ratings = sorted_ratings[:1000000]  # small subsample for testing\n",
    "reader = Reader()\n",
    "sorted_ratings_data = Dataset.load_from_df(\n",
    "    sorted_ratings[['userId', 'movieId', 'rating']], reader)\n",
    "raw_ratings = sorted_ratings_data.raw_ratings\n",
    "# A = 80% of the data, B = 20% of the data\n",
    "threshold = int(0.8 * len(raw_ratings))\n",
    "train_raw_ratings = raw_ratings[:threshold]\n",
    "test_raw_ratings = raw_ratings[threshold:]\n",
    "sorted_ratings_data.raw_ratings = train_raw_ratings  # data is now the set A\n",
    "\n",
    "sim_options = {'name': 'cosine', 'user_based': True}\n",
    "algo = KNNBasic(k=50, sim_options=sim_options, verbose=False)\n",
    "User_KNN_rmse, User_KNN_mae = algo_evaluating(algo)"
   ]
  },
  {
   "cell_type": "code",
   "execution_count": 0,
   "metadata": {
    "colab": {},
    "colab_type": "code",
    "id": "kplv8wEWPVSF"
   },
   "outputs": [],
   "source": [
    "model_based_results = model_based_results.assign(User_KNN = [User_KNN_rmse, User_KNN_mae])\n",
    "\n",
    "os.chdir(HW_path)\n",
    "model_based_results.to_csv(\"model_based_results\", sep='\\t')"
   ]
  },
  {
   "cell_type": "code",
   "execution_count": 0,
   "metadata": {
    "colab": {},
    "colab_type": "code",
    "id": "jOgk_mrSPVSH",
    "outputId": "98a252d6-6c9f-4268-c994-44ecd0667d5a"
   },
   "outputs": [
    {
     "data": {
      "text/html": [
       "<div>\n",
       "<style scoped>\n",
       "    .dataframe tbody tr th:only-of-type {\n",
       "        vertical-align: middle;\n",
       "    }\n",
       "\n",
       "    .dataframe tbody tr th {\n",
       "        vertical-align: top;\n",
       "    }\n",
       "\n",
       "    .dataframe thead th {\n",
       "        text-align: right;\n",
       "    }\n",
       "</style>\n",
       "<table border=\"1\" class=\"dataframe\">\n",
       "  <thead>\n",
       "    <tr style=\"text-align: right;\">\n",
       "      <th></th>\n",
       "      <th>Slope One</th>\n",
       "      <th>NMF</th>\n",
       "      <th>SVD</th>\n",
       "      <th>Item_KNN</th>\n",
       "      <th>User_KNN</th>\n",
       "    </tr>\n",
       "  </thead>\n",
       "  <tbody>\n",
       "    <tr>\n",
       "      <th>RMSE</th>\n",
       "      <td>1.015577</td>\n",
       "      <td>1.015824</td>\n",
       "      <td>0.951603</td>\n",
       "      <td>1.017933</td>\n",
       "      <td>0.979101</td>\n",
       "    </tr>\n",
       "    <tr>\n",
       "      <th>MAE</th>\n",
       "      <td>1.015577</td>\n",
       "      <td>0.786550</td>\n",
       "      <td>0.731323</td>\n",
       "      <td>0.788244</td>\n",
       "      <td>0.815786</td>\n",
       "    </tr>\n",
       "  </tbody>\n",
       "</table>\n",
       "</div>"
      ],
      "text/plain": [
       "      Slope One       NMF       SVD  Item_KNN  User_KNN\n",
       "RMSE   1.015577  1.015824  0.951603  1.017933  0.979101\n",
       "MAE    1.015577  0.786550  0.731323  0.788244  0.815786"
      ]
     },
     "execution_count": 25,
     "metadata": {
      "tags": []
     },
     "output_type": "execute_result"
    }
   ],
   "source": [
    "#os.chdir(HW_path)\n",
    "#model_based_results = pd.read_csv('model_based_results', sep='\\t', index_col=0)\n",
    "model_based_results"
   ]
  },
  {
   "cell_type": "markdown",
   "metadata": {
    "colab_type": "text",
    "id": "3xwnjXL3PVSJ"
   },
   "source": [
    "# Content-based recommender"
   ]
  },
  {
   "cell_type": "markdown",
   "metadata": {
    "colab_type": "text",
    "id": "t35ar_2uPVSJ"
   },
   "source": [
    "## Preprocessing"
   ]
  },
  {
   "cell_type": "code",
   "execution_count": 0,
   "metadata": {
    "colab": {},
    "colab_type": "code",
    "id": "UVGmAEUEPVSK"
   },
   "outputs": [],
   "source": [
    "def explode(df, lst_cols, fill_value=''):\n",
    "    # make sure `lst_cols` is a list\n",
    "    if lst_cols and not isinstance(lst_cols, list):\n",
    "        lst_cols = [lst_cols]\n",
    "    # all columns except `lst_cols`\n",
    "    idx_cols = df.columns.difference(lst_cols)\n",
    "\n",
    "    # calculate lengths of lists\n",
    "    lens = df[lst_cols[0]].str.len()\n",
    "\n",
    "    if (lens > 0).all():\n",
    "        # ALL lists in cells aren't empty\n",
    "        return pd.DataFrame({\n",
    "            col:np.repeat(df[col].values, df[lst_cols[0]].str.len())\n",
    "            for col in idx_cols\n",
    "        }).assign(**{col:np.concatenate(df[col].values) for col in lst_cols}) \\\n",
    "          .loc[:, df.columns]\n",
    "    else:\n",
    "        # at least one list in cells is empty\n",
    "        return pd.DataFrame({\n",
    "            col:np.repeat(df[col].values, df[lst_cols[0]].str.len())\n",
    "            for col in idx_cols\n",
    "        }).assign(**{col:np.concatenate(df[col].values) for col in lst_cols}) \\\n",
    "          .append(df.loc[lens==0, idx_cols]).fillna(fill_value) \\\n",
    "          .loc[:, df.columns]"
   ]
  },
  {
   "cell_type": "code",
   "execution_count": 0,
   "metadata": {
    "colab": {},
    "colab_type": "code",
    "id": "qdLuVuUJPVSL",
    "outputId": "fd00294d-7d45-480c-b37b-a4bee6c609f1"
   },
   "outputs": [
    {
     "data": {
      "text/html": [
       "<div>\n",
       "<style scoped>\n",
       "    .dataframe tbody tr th:only-of-type {\n",
       "        vertical-align: middle;\n",
       "    }\n",
       "\n",
       "    .dataframe tbody tr th {\n",
       "        vertical-align: top;\n",
       "    }\n",
       "\n",
       "    .dataframe thead th {\n",
       "        text-align: right;\n",
       "    }\n",
       "</style>\n",
       "<table border=\"1\" class=\"dataframe\">\n",
       "  <thead>\n",
       "    <tr style=\"text-align: right;\">\n",
       "      <th></th>\n",
       "      <th>movieId</th>\n",
       "      <th>genres</th>\n",
       "    </tr>\n",
       "  </thead>\n",
       "  <tbody>\n",
       "    <tr>\n",
       "      <th>0</th>\n",
       "      <td>1</td>\n",
       "      <td>Adventure</td>\n",
       "    </tr>\n",
       "    <tr>\n",
       "      <th>1</th>\n",
       "      <td>1</td>\n",
       "      <td>Animation</td>\n",
       "    </tr>\n",
       "    <tr>\n",
       "      <th>2</th>\n",
       "      <td>1</td>\n",
       "      <td>Children</td>\n",
       "    </tr>\n",
       "    <tr>\n",
       "      <th>3</th>\n",
       "      <td>1</td>\n",
       "      <td>Comedy</td>\n",
       "    </tr>\n",
       "    <tr>\n",
       "      <th>4</th>\n",
       "      <td>1</td>\n",
       "      <td>Fantasy</td>\n",
       "    </tr>\n",
       "  </tbody>\n",
       "</table>\n",
       "</div>"
      ],
      "text/plain": [
       "   movieId     genres\n",
       "0        1  Adventure\n",
       "1        1  Animation\n",
       "2        1   Children\n",
       "3        1     Comedy\n",
       "4        1    Fantasy"
      ]
     },
     "execution_count": 13,
     "metadata": {
      "tags": []
     },
     "output_type": "execute_result"
    }
   ],
   "source": [
    "# split genres\n",
    "movies_genres = movies\n",
    "movies_genres.genres = movies_genres.genres.str.split('|')\n",
    "movies_genres = explode(movies_genres, ['genres'])\n",
    "movies_genres.head(8)\n",
    "\n",
    "# drop movie's title\n",
    "movies_genres = movies_genres.drop('title', axis=1)\n",
    "movies_genres.head()"
   ]
  },
  {
   "cell_type": "code",
   "execution_count": 0,
   "metadata": {
    "colab": {},
    "colab_type": "code",
    "id": "fntQhz9rPVSO",
    "outputId": "39230589-ddb8-440f-9c4d-37c4a84af145"
   },
   "outputs": [
    {
     "data": {
      "text/html": [
       "<div>\n",
       "<style scoped>\n",
       "    .dataframe tbody tr th:only-of-type {\n",
       "        vertical-align: middle;\n",
       "    }\n",
       "\n",
       "    .dataframe tbody tr th {\n",
       "        vertical-align: top;\n",
       "    }\n",
       "\n",
       "    .dataframe thead th {\n",
       "        text-align: right;\n",
       "    }\n",
       "</style>\n",
       "<table border=\"1\" class=\"dataframe\">\n",
       "  <thead>\n",
       "    <tr style=\"text-align: right;\">\n",
       "      <th></th>\n",
       "      <th>userId</th>\n",
       "      <th>movieId</th>\n",
       "      <th>rating</th>\n",
       "      <th>timestamp</th>\n",
       "      <th>genres</th>\n",
       "    </tr>\n",
       "  </thead>\n",
       "  <tbody>\n",
       "    <tr>\n",
       "      <th>0</th>\n",
       "      <td>1</td>\n",
       "      <td>2</td>\n",
       "      <td>3.5</td>\n",
       "      <td>1112486027</td>\n",
       "      <td>Adventure</td>\n",
       "    </tr>\n",
       "    <tr>\n",
       "      <th>1</th>\n",
       "      <td>1</td>\n",
       "      <td>2</td>\n",
       "      <td>3.5</td>\n",
       "      <td>1112486027</td>\n",
       "      <td>Children</td>\n",
       "    </tr>\n",
       "    <tr>\n",
       "      <th>2</th>\n",
       "      <td>1</td>\n",
       "      <td>2</td>\n",
       "      <td>3.5</td>\n",
       "      <td>1112486027</td>\n",
       "      <td>Fantasy</td>\n",
       "    </tr>\n",
       "    <tr>\n",
       "      <th>3</th>\n",
       "      <td>5</td>\n",
       "      <td>2</td>\n",
       "      <td>3.0</td>\n",
       "      <td>851527569</td>\n",
       "      <td>Adventure</td>\n",
       "    </tr>\n",
       "    <tr>\n",
       "      <th>4</th>\n",
       "      <td>5</td>\n",
       "      <td>2</td>\n",
       "      <td>3.0</td>\n",
       "      <td>851527569</td>\n",
       "      <td>Children</td>\n",
       "    </tr>\n",
       "  </tbody>\n",
       "</table>\n",
       "</div>"
      ],
      "text/plain": [
       "   userId  movieId  rating   timestamp     genres\n",
       "0       1        2     3.5  1112486027  Adventure\n",
       "1       1        2     3.5  1112486027   Children\n",
       "2       1        2     3.5  1112486027    Fantasy\n",
       "3       5        2     3.0   851527569  Adventure\n",
       "4       5        2     3.0   851527569   Children"
      ]
     },
     "execution_count": 14,
     "metadata": {
      "tags": []
     },
     "output_type": "execute_result"
    }
   ],
   "source": [
    "# merge for genres estimation\n",
    "genre_ratings = ratings.merge(movies_genres, left_on='movieId', right_on='movieId', how='inner')\n",
    "genre_ratings.head()"
   ]
  },
  {
   "cell_type": "code",
   "execution_count": 0,
   "metadata": {
    "colab": {},
    "colab_type": "code",
    "id": "xgG6fVNOPVSQ",
    "outputId": "f8ec4ded-719f-47e5-e527-5095643fed8b"
   },
   "outputs": [
    {
     "data": {
      "text/html": [
       "<div>\n",
       "<style scoped>\n",
       "    .dataframe tbody tr th:only-of-type {\n",
       "        vertical-align: middle;\n",
       "    }\n",
       "\n",
       "    .dataframe tbody tr th {\n",
       "        vertical-align: top;\n",
       "    }\n",
       "\n",
       "    .dataframe thead th {\n",
       "        text-align: right;\n",
       "    }\n",
       "</style>\n",
       "<table border=\"1\" class=\"dataframe\">\n",
       "  <thead>\n",
       "    <tr style=\"text-align: right;\">\n",
       "      <th></th>\n",
       "      <th>userId</th>\n",
       "      <th>genres</th>\n",
       "      <th>rating</th>\n",
       "    </tr>\n",
       "  </thead>\n",
       "  <tbody>\n",
       "    <tr>\n",
       "      <th>0</th>\n",
       "      <td>1</td>\n",
       "      <td>Action</td>\n",
       "      <td>3.727273</td>\n",
       "    </tr>\n",
       "    <tr>\n",
       "      <th>1</th>\n",
       "      <td>1</td>\n",
       "      <td>Adventure</td>\n",
       "      <td>3.787671</td>\n",
       "    </tr>\n",
       "    <tr>\n",
       "      <th>2</th>\n",
       "      <td>1</td>\n",
       "      <td>Animation</td>\n",
       "      <td>3.650000</td>\n",
       "    </tr>\n",
       "    <tr>\n",
       "      <th>3</th>\n",
       "      <td>1</td>\n",
       "      <td>Children</td>\n",
       "      <td>3.605263</td>\n",
       "    </tr>\n",
       "    <tr>\n",
       "      <th>4</th>\n",
       "      <td>1</td>\n",
       "      <td>Comedy</td>\n",
       "      <td>3.731707</td>\n",
       "    </tr>\n",
       "  </tbody>\n",
       "</table>\n",
       "</div>"
      ],
      "text/plain": [
       "   userId     genres    rating\n",
       "0       1     Action  3.727273\n",
       "1       1  Adventure  3.787671\n",
       "2       1  Animation  3.650000\n",
       "3       1   Children  3.605263\n",
       "4       1     Comedy  3.731707"
      ]
     },
     "execution_count": 15,
     "metadata": {
      "tags": []
     },
     "output_type": "execute_result"
    }
   ],
   "source": [
    "# group ranks for concrete user and evaluate\n",
    "# mean rating for every genre\n",
    "ratings_user = genre_ratings.groupby(['userId', 'genres'], as_index=False)['rating'].aggregate(np.mean)\n",
    "ratings_user.head()"
   ]
  },
  {
   "cell_type": "code",
   "execution_count": 0,
   "metadata": {
    "colab": {},
    "colab_type": "code",
    "id": "JglOT2iwPVST",
    "outputId": "ad9396a6-92cb-42dd-a9c0-ddadb539a563"
   },
   "outputs": [
    {
     "name": "stdout",
     "output_type": "stream",
     "text": [
      "Wall time: 55.8 s\n"
     ]
    }
   ],
   "source": [
    "%%time\n",
    "# find user representation\n",
    "user_repr = {}\n",
    "genres = ratings_user[\"genres\"].unique()\n",
    "genres_map = {}\n",
    "for i,g in enumerate(genres):\n",
    "    genres_map[g] = i \n",
    "for u in ratings_user[\"userId\"].unique():\n",
    "    user_repr[u] = np.zeros(len(genres))\n",
    "    \n",
    "def update_user_dict(s):\n",
    "    user_repr[s[\"userId\"]][genres_map[s[\"genres\"]]] += s[\"rating\"]\n",
    "\n",
    "# each user (row) is represented by\n",
    "# len(genres) columns with mean rating\n",
    "# for the corresponding genre\n",
    "ratings_user.apply(lambda s : update_user_dict(s),axis=1)"
   ]
  },
  {
   "cell_type": "code",
   "execution_count": 0,
   "metadata": {
    "colab": {},
    "colab_type": "code",
    "id": "s2NvlptaPVSX",
    "outputId": "2cbf9e1f-f449-4506-9929-9d17571610aa"
   },
   "outputs": [
    {
     "data": {
      "text/html": [
       "<div>\n",
       "<style scoped>\n",
       "    .dataframe tbody tr th:only-of-type {\n",
       "        vertical-align: middle;\n",
       "    }\n",
       "\n",
       "    .dataframe tbody tr th {\n",
       "        vertical-align: top;\n",
       "    }\n",
       "\n",
       "    .dataframe thead th {\n",
       "        text-align: right;\n",
       "    }\n",
       "</style>\n",
       "<table border=\"1\" class=\"dataframe\">\n",
       "  <thead>\n",
       "    <tr style=\"text-align: right;\">\n",
       "      <th></th>\n",
       "      <th>movieId</th>\n",
       "      <th>title</th>\n",
       "      <th>genres</th>\n",
       "      <th>userId</th>\n",
       "      <th>rating</th>\n",
       "      <th>timestamp</th>\n",
       "      <th>index</th>\n",
       "    </tr>\n",
       "  </thead>\n",
       "  <tbody>\n",
       "    <tr>\n",
       "      <th>0</th>\n",
       "      <td>1</td>\n",
       "      <td>Toy Story (1995)</td>\n",
       "      <td>[Adventure, Animation, Children, Comedy, Fantasy]</td>\n",
       "      <td>3</td>\n",
       "      <td>4.0</td>\n",
       "      <td>944919407</td>\n",
       "      <td>0</td>\n",
       "    </tr>\n",
       "    <tr>\n",
       "      <th>1</th>\n",
       "      <td>1</td>\n",
       "      <td>Toy Story (1995)</td>\n",
       "      <td>[Adventure, Animation, Children, Comedy, Fantasy]</td>\n",
       "      <td>6</td>\n",
       "      <td>5.0</td>\n",
       "      <td>858275452</td>\n",
       "      <td>1</td>\n",
       "    </tr>\n",
       "    <tr>\n",
       "      <th>2</th>\n",
       "      <td>1</td>\n",
       "      <td>Toy Story (1995)</td>\n",
       "      <td>[Adventure, Animation, Children, Comedy, Fantasy]</td>\n",
       "      <td>8</td>\n",
       "      <td>4.0</td>\n",
       "      <td>833981871</td>\n",
       "      <td>2</td>\n",
       "    </tr>\n",
       "    <tr>\n",
       "      <th>3</th>\n",
       "      <td>1</td>\n",
       "      <td>Toy Story (1995)</td>\n",
       "      <td>[Adventure, Animation, Children, Comedy, Fantasy]</td>\n",
       "      <td>10</td>\n",
       "      <td>4.0</td>\n",
       "      <td>943497887</td>\n",
       "      <td>3</td>\n",
       "    </tr>\n",
       "    <tr>\n",
       "      <th>4</th>\n",
       "      <td>1</td>\n",
       "      <td>Toy Story (1995)</td>\n",
       "      <td>[Adventure, Animation, Children, Comedy, Fantasy]</td>\n",
       "      <td>11</td>\n",
       "      <td>4.5</td>\n",
       "      <td>1230858821</td>\n",
       "      <td>4</td>\n",
       "    </tr>\n",
       "  </tbody>\n",
       "</table>\n",
       "</div>"
      ],
      "text/plain": [
       "   movieId             title  \\\n",
       "0        1  Toy Story (1995)   \n",
       "1        1  Toy Story (1995)   \n",
       "2        1  Toy Story (1995)   \n",
       "3        1  Toy Story (1995)   \n",
       "4        1  Toy Story (1995)   \n",
       "\n",
       "                                              genres  userId  rating  \\\n",
       "0  [Adventure, Animation, Children, Comedy, Fantasy]       3     4.0   \n",
       "1  [Adventure, Animation, Children, Comedy, Fantasy]       6     5.0   \n",
       "2  [Adventure, Animation, Children, Comedy, Fantasy]       8     4.0   \n",
       "3  [Adventure, Animation, Children, Comedy, Fantasy]      10     4.0   \n",
       "4  [Adventure, Animation, Children, Comedy, Fantasy]      11     4.5   \n",
       "\n",
       "    timestamp  index  \n",
       "0   944919407      0  \n",
       "1   858275452      1  \n",
       "2   833981871      2  \n",
       "3   943497887      3  \n",
       "4  1230858821      4  "
      ]
     },
     "execution_count": 22,
     "metadata": {
      "tags": []
     },
     "output_type": "execute_result"
    }
   ],
   "source": [
    "# merging movie and ratings\n",
    "merged_df = pd.merge(movies, ratings,on=\"movieId\",how=\"inner\")\n",
    "# adding indexes\n",
    "merged_df[\"index\"] = merged_df.index\n",
    "merged_df.head()"
   ]
  },
  {
   "cell_type": "code",
   "execution_count": 0,
   "metadata": {
    "colab": {},
    "colab_type": "code",
    "id": "uvSwnGZlPVSZ",
    "outputId": "49741c75-3de6-4c42-d678-201366c8da7f"
   },
   "outputs": [
    {
     "name": "stdout",
     "output_type": "stream",
     "text": [
      "Wall time: 8min 3s\n"
     ]
    }
   ],
   "source": [
    "%%time\n",
    "#if RAM is finite\n",
    "merged_df = merged_df[:10000000]\n",
    "\n",
    "features = np.zeros((merged_df.shape[0],2*len(genres)))\n",
    "y = merged_df[\"rating\"]\n",
    "def update_features(s):\n",
    "    for g in s[\"genres\"]:\n",
    "        features[s[\"index\"],genres_map[g]] = 1.0\n",
    "    features[s[\"index\"],len(genres):] = user_repr[s[\"userId\"]]\n",
    "    \n",
    "merged_df.apply(lambda s : update_features(s),axis=1)"
   ]
  },
  {
   "cell_type": "code",
   "execution_count": 0,
   "metadata": {
    "colab": {},
    "colab_type": "code",
    "id": "-mTaO2ZnPVSe",
    "outputId": "ebe905bc-ef19-4cda-b33f-c150bd3e1658"
   },
   "outputs": [
    {
     "name": "stdout",
     "output_type": "stream",
     "text": [
      "train size: 8000000\n",
      "test size: 2000000\n"
     ]
    }
   ],
   "source": [
    "#train test split\n",
    "train_feats = features[:int(features.shape[0]*0.8)]\n",
    "test_feats = features[int(features.shape[0]*0.8):]\n",
    "train_y = y[:int(features.shape[0]*0.8)]\n",
    "test_y = y[int(features.shape[0]*0.8):]\n",
    "\n",
    "print('train size:', train_feats.shape[0])\n",
    "print('test size:', test_feats.shape[0])"
   ]
  },
  {
   "cell_type": "markdown",
   "metadata": {
    "colab_type": "text",
    "id": "TGaeT2DUPVSi"
   },
   "source": [
    "## Random Forest"
   ]
  },
  {
   "cell_type": "code",
   "execution_count": 0,
   "metadata": {
    "colab": {},
    "colab_type": "code",
    "id": "gRJkQhVpPVSj",
    "outputId": "15ad7a62-ebd0-45fe-e42c-d966c2280596"
   },
   "outputs": [
    {
     "name": "stdout",
     "output_type": "stream",
     "text": [
      "1 -fold\n",
      "RMSE: 1.1222924964078278\n",
      "2 -fold\n",
      "RMSE: 1.0820446869750728\n",
      "3 -fold\n",
      "RMSE: 1.1184627000043836\n",
      "4 -fold\n",
      "RMSE: 1.1048369556419373\n",
      "5 -fold\n",
      "RMSE: 1.122316418962252\n",
      "Wall time: 26min 27s\n"
     ]
    }
   ],
   "source": [
    "%%time\n",
    "scores = []\n",
    "iteration = 1\n",
    "kfold = sklearn.model_selection.KFold(5, random_state=42)\n",
    "for train_idx, test_idx in kfold.split(train_feats):\n",
    "    X_train, X_test = features[train_idx], features[test_idx]\n",
    "    y_train, y_test = y[train_idx], y[test_idx]\n",
    "    \n",
    "    reg = RandomForestRegressor(n_estimators=2)\n",
    "    reg.fit(X_train,y_train)\n",
    "    y_pred = reg.predict(X_test)\n",
    "    RMSE = (mean_squared_error(y_test,y_pred))**0.5\n",
    "    scores.append(RMSE)\n",
    "    print(iteration,\"-fold\\nRMSE:\", RMSE)\n",
    "    iteration+=1"
   ]
  },
  {
   "cell_type": "code",
   "execution_count": 0,
   "metadata": {
    "colab": {},
    "colab_type": "code",
    "id": "ZTn_n8lzPVSr",
    "outputId": "da06090b-22ba-4efa-c27e-b5d84f5c913f"
   },
   "outputs": [
    {
     "name": "stdout",
     "output_type": "stream",
     "text": [
      "Kfold RMSE mean: 1.1099906515982947\n"
     ]
    }
   ],
   "source": [
    "print('Kfold RMSE mean:', np.mean(scores))"
   ]
  },
  {
   "cell_type": "code",
   "execution_count": 0,
   "metadata": {
    "colab": {},
    "colab_type": "code",
    "id": "lLXIZa3cPVSv",
    "outputId": "062963e0-a2a5-4e94-f11f-13a83d9a717f"
   },
   "outputs": [
    {
     "name": "stdout",
     "output_type": "stream",
     "text": [
      "\n",
      "Unbiased RMSE: 1.13949724244758\n"
     ]
    }
   ],
   "source": [
    "y_pred = reg.predict(test_feats)\n",
    "RMSE = (mean_squared_error(test_y,y_pred))**0.5\n",
    "print('\\nUnbiased RMSE:', RMSE)"
   ]
  },
  {
   "cell_type": "code",
   "execution_count": 0,
   "metadata": {
    "colab": {},
    "colab_type": "code",
    "id": "cSki23owPVSx"
   },
   "outputs": [],
   "source": []
  }
 ],
 "metadata": {
  "colab": {
   "name": "HW10.ipynb",
   "provenance": [],
   "version": "0.3.2"
  },
  "kernelspec": {
   "display_name": "Python 3",
   "language": "python",
   "name": "python3"
  },
  "language_info": {
   "codemirror_mode": {
    "name": "ipython",
    "version": 3
   },
   "file_extension": ".py",
   "mimetype": "text/x-python",
   "name": "python",
   "nbconvert_exporter": "python",
   "pygments_lexer": "ipython3",
   "version": "3.6.9"
  },
  "latex_envs": {
   "LaTeX_envs_menu_present": true,
   "autoclose": false,
   "autocomplete": true,
   "bibliofile": "biblio.bib",
   "cite_by": "apalike",
   "current_citInitial": 1,
   "eqLabelWithNumbers": true,
   "eqNumInitial": 1,
   "hotkeys": {
    "equation": "Ctrl-E",
    "itemize": "Ctrl-I"
   },
   "labels_anchors": false,
   "latex_user_defs": false,
   "report_style_numbering": false,
   "user_envs_cfg": false
  },
  "toc": {
   "base_numbering": 1,
   "nav_menu": {},
   "number_sections": true,
   "sideBar": true,
   "skip_h1_title": false,
   "title_cell": "Table of Contents",
   "title_sidebar": "Contents",
   "toc_cell": false,
   "toc_position": {
    "height": "calc(100% - 180px)",
    "left": "10px",
    "top": "150px",
    "width": "349.091px"
   },
   "toc_section_display": true,
   "toc_window_display": true
  },
  "varInspector": {
   "cols": {
    "lenName": 16,
    "lenType": 16,
    "lenVar": 40
   },
   "kernels_config": {
    "python": {
     "delete_cmd_postfix": "",
     "delete_cmd_prefix": "del ",
     "library": "var_list.py",
     "varRefreshCmd": "print(var_dic_list())"
    },
    "r": {
     "delete_cmd_postfix": ") ",
     "delete_cmd_prefix": "rm(",
     "library": "var_list.r",
     "varRefreshCmd": "cat(var_dic_list()) "
    }
   },
   "types_to_exclude": [
    "module",
    "function",
    "builtin_function_or_method",
    "instance",
    "_Feature"
   ],
   "window_display": false
  }
 },
 "nbformat": 4,
 "nbformat_minor": 1
}
