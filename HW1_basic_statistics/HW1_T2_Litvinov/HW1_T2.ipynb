{
 "cells": [
  {
   "cell_type": "markdown",
   "metadata": {},
   "source": [
    "# Stratification\n",
    "\n",
    "Links:\n",
    "    - https://en.wikipedia.org/wiki/Stratified_sampling\n",
    "    - https://en.wikipedia.org/wiki/Sample_size_determination\n",
    "    - https://www.youtube.com/watch?v=Nnui2Xa0qRU&index=3&list=PLlb7e2G7aSpRG_Ve6kuxc9Biuwyf42kJx"
   ]
  },
  {
   "cell_type": "markdown",
   "metadata": {},
   "source": [
    "# Libs"
   ]
  },
  {
   "cell_type": "code",
   "execution_count": 0,
   "metadata": {
    "colab": {},
    "colab_type": "code",
    "id": "TRjSJwyEmH5P"
   },
   "outputs": [],
   "source": [
    "import matplotlib.mlab as mlab\n",
    "import numpy as np\n",
    "import math\n",
    "from scipy import stats\n",
    "import matplotlib.pyplot as plt\n",
    "import pandas as pd\n",
    "import seaborn as sns"
   ]
  },
  {
   "cell_type": "markdown",
   "metadata": {},
   "source": [
    "# Population"
   ]
  },
  {
   "cell_type": "markdown",
   "metadata": {
    "colab_type": "text",
    "id": "QrDlfnQAmH5S"
   },
   "source": [
    "Зададим доли страт нормальных распределений в генеральной совокупности"
   ]
  },
  {
   "cell_type": "code",
   "execution_count": 0,
   "metadata": {
    "colab": {},
    "colab_type": "code",
    "id": "NEJvonremH5T"
   },
   "outputs": [],
   "source": [
    "weight_0 = 0.2\n",
    "weight_1 = 0.5\n",
    "weight_2 = 0.3\n",
    "\n",
    "weights = [weight_0, weight_1, weight_2]"
   ]
  },
  {
   "cell_type": "markdown",
   "metadata": {},
   "source": [
    "# Simple random"
   ]
  },
  {
   "cell_type": "markdown",
   "metadata": {
    "colab_type": "text",
    "id": "W64Ix34AmH5V"
   },
   "source": [
    "Функция простого случайного выбора. Возвращает среднее и дисерсию выборки размера size. Согласно весам распределений weights случайно выбирается одно из трёх распределений. Из выбранного распределения (согласно параметрам распределения из датафрейма distributions) выбирается случайное значение, которое и записывается в выборку."
   ]
  },
  {
   "cell_type": "code",
   "execution_count": 0,
   "metadata": {
    "colab": {},
    "colab_type": "code",
    "id": "3-1J7Zy6mH5W"
   },
   "outputs": [],
   "source": [
    "def simple_random_sampling(size, weights, distributions):\n",
    "\n",
    "    sample = []\n",
    "    choices = []\n",
    "\n",
    "    #Выбираем распределения случайным образом согласно вероятностям из листа weights\n",
    "    choices.extend(np.random.choice(range(len(weights)), size=size, p=weights))\n",
    "\n",
    "    for i in range(len(weights)):\n",
    "        #Добавляем в лист случайные значения из i-ого распределения согласно его доле\n",
    "        sample.extend(\n",
    "            np.random.normal(loc=distributions.at[i, 'mean'],\n",
    "                             scale=math.sqrt(distributions.at[i, 'variance']),\n",
    "                             size=choices.count(i)))\n",
    "\n",
    "    return np.asarray(sample).mean(), np.asarray(sample).var()"
   ]
  },
  {
   "cell_type": "markdown",
   "metadata": {},
   "source": [
    "# Proportional"
   ]
  },
  {
   "cell_type": "markdown",
   "metadata": {
    "colab_type": "text",
    "id": "k91Chqa1mH5Y"
   },
   "source": [
    "Функция пропорционального разбиения на подсэпмлы. Возвращает среднее и дисерсию выборки размера size. Количество случайных значений из k-ого нормального распределения вычисляется по формуле:  \n",
    "$$n_l = n\\frac{N_l}{N}, \\mathrm{Var}[\\bar{X}_{SP}]=\\frac{1}{n}\\sum_{k=1}^{L}W_k\\sigma_k^2$$"
   ]
  },
  {
   "cell_type": "code",
   "execution_count": 0,
   "metadata": {
    "colab": {},
    "colab_type": "code",
    "id": "2P88Tn2mmH5Z"
   },
   "outputs": [],
   "source": [
    "def proportional_sampling(size, weights, distributions):\n",
    "\n",
    "    means = []\n",
    "    variances = []\n",
    "\n",
    "    for i in range(len(weights)):\n",
    "        sample = []\n",
    "        #Добавляем в лист случайные значения из i-ого распределения согласно его доле\n",
    "        sample.extend(\n",
    "            np.random.normal(loc=distributions.at[i, 'mean'],\n",
    "                             scale=math.sqrt(distributions.at[i, 'variance']),\n",
    "                             size=int(size * weights[i])))\n",
    "        means.append(np.asarray(sample).mean())\n",
    "        variances.append(np.asarray(sample).var())\n",
    "\n",
    "    #Преобразуем переменные в векторный вид для упрощения записи циклических операций\n",
    "    weights = np.array(weights)\n",
    "    means = np.array(means)\n",
    "\n",
    "    expected_mean = np.sum(weights * means)\n",
    "    expected_variance = np.sum(weights * variances) + np.sum(\n",
    "        weights * (expected_mean - means)**2)\n",
    "\n",
    "    return expected_mean, expected_variance"
   ]
  },
  {
   "cell_type": "markdown",
   "metadata": {},
   "source": [
    "# Optimal"
   ]
  },
  {
   "cell_type": "markdown",
   "metadata": {
    "colab_type": "text",
    "id": "jzKPlfblmH5a"
   },
   "source": [
    "Функция оптимальноого разбиения на подсэпмлы. Возвращает среднее и дисерсию выборки размера size. Количество случайных значений из k-ого нормального распределения вычисляется по формуле: \n",
    "$$\\mathrm{Var}[\\bar{X}_S] \\rightarrow \\min$$\n",
    "$$n_l = n\\frac{W_l\\sigma_l}{\\sum_{k=1}^{L}W_k\\sigma_k}, \\mathrm{Var}[\\bar{X}_{SO}]=\\frac{1}{n}\\left(\\sum_{k=1}^{L}W_k\\sigma_k\\right)^2$$"
   ]
  },
  {
   "cell_type": "code",
   "execution_count": 0,
   "metadata": {
    "colab": {},
    "colab_type": "code",
    "id": "W2-jcf9smH5b"
   },
   "outputs": [],
   "source": [
    "def optimal_sampling(size, weights, distributions):\n",
    "\n",
    "    #вычисление знаменателя приведённой выше формулы\n",
    "    denominator = 0\n",
    "    for i in range(len(weights)):\n",
    "        denominator += weights[i] * math.sqrt(distributions.at[i, 'variance'])\n",
    "\n",
    "    volume_of_stratum = []\n",
    "    #вычисленные объёмы первых двух страт округляются в меньшую сторону,\n",
    "    #а объём последней страты вычисляется как разность между объёмом выборки и суммой объёмов первых двух страт\n",
    "    for i in range(len(weights) - 1):\n",
    "        volume_of_stratum.append(\n",
    "            math.floor(size * weights[i] *\n",
    "                       math.sqrt(distributions.at[i, 'variance']) /\n",
    "                       denominator))\n",
    "    volume_of_stratum.append(size - volume_of_stratum[1] -\n",
    "                             volume_of_stratum[0])\n",
    "\n",
    "    means = []\n",
    "    variances = []\n",
    "\n",
    "    for i in range(len(weights)):\n",
    "        sample = []\n",
    "        #Добавляем в лист случайные значения из i-ого распределения согласно его доле\n",
    "        sample.extend(\n",
    "            np.random.normal(loc=distributions.at[i, 'mean'],\n",
    "                             scale=math.sqrt(distributions.at[i, 'variance']),\n",
    "                             size=volume_of_stratum[i]))\n",
    "        means.append(np.asarray(sample).mean())\n",
    "        variances.append(np.asarray(sample).var())\n",
    "\n",
    "    #Преобразуем переменные в векторный вид для упрощения записи циклических операций\n",
    "    weights = np.array(weights)\n",
    "    means = np.array(means)\n",
    "\n",
    "    expected_mean = np.sum(weights * means)\n",
    "    expected_variance = np.sum(weights * variances) + np.sum(\n",
    "        weights * (expected_mean - means)**2)\n",
    "\n",
    "    return expected_mean, expected_variance"
   ]
  },
  {
   "cell_type": "markdown",
   "metadata": {},
   "source": [
    "# Support functions"
   ]
  },
  {
   "cell_type": "markdown",
   "metadata": {
    "colab_type": "text",
    "id": "8pCs7ThQmH5d"
   },
   "source": [
    "Функция моделирования нужного количества (reiterations) выборок заданного объёма size. Разбиение на подсэмплы происходит согласно функции function. Функция моделирования возвращает DataFrame, где каждой строчке соответствует выборка. Для каждой выборки указан метод сэмплирования, среднее выборки и дисперсия выборки"
   ]
  },
  {
   "cell_type": "code",
   "execution_count": 0,
   "metadata": {
    "colab": {},
    "colab_type": "code",
    "id": "GLPKaGPCmH5e"
   },
   "outputs": [],
   "source": [
    "def modelling(weights, distributions, function, size, reiterations):\n",
    "\n",
    "    df = pd.DataFrame(columns=['method', 'mean', 'variance'])\n",
    "\n",
    "    for i in range(reiterations):\n",
    "        sample_mean, sample_variance = function(size, weights, distributions)\n",
    "        func_name = function.__name__\n",
    "        df = df.append(pd.DataFrame(\n",
    "            data=[[func_name, sample_mean, sample_variance]],\n",
    "            columns=['method', 'mean', 'variance']),\n",
    "                       ignore_index=True)\n",
    "    return df"
   ]
  },
  {
   "cell_type": "markdown",
   "metadata": {
    "colab_type": "text",
    "id": "E0-KivAdmH5g"
   },
   "source": [
    "Функция моделирования нужного количества (reiterations) выборок заданного объёма size. Моделирование происходит для каждого способа разбиения на посэмплы. Все выборки записываются в один DataFrame, который и возвращается."
   ]
  },
  {
   "cell_type": "code",
   "execution_count": 0,
   "metadata": {
    "colab": {},
    "colab_type": "code",
    "id": "IaL_HgmJmH5g"
   },
   "outputs": [],
   "source": [
    "def modelling_all_samplings(weights, distributions, size, reiterations=1000):\n",
    "\n",
    "    model = pd.DataFrame(columns=['method', 'mean', 'variance'])\n",
    "\n",
    "    functions = [simple_random_sampling, proportional_sampling, optimal_sampling]\n",
    "\n",
    "    for i in range(len(functions)):\n",
    "        df_size = modelling(weights, distributions, functions[i], size,\n",
    "                            reiterations)\n",
    "        model = model.append(df_size, ignore_index=True)\n",
    "\n",
    "    return model"
   ]
  },
  {
   "cell_type": "markdown",
   "metadata": {
    "colab_type": "text",
    "id": "UwYiDDobmH5i"
   },
   "source": [
    "Функция для вывода графиков boxplot для средних значений и для дисперсий. Производится разделение по методам для более удобного анализа"
   ]
  },
  {
   "cell_type": "code",
   "execution_count": 0,
   "metadata": {
    "colab": {},
    "colab_type": "code",
    "id": "-c0EGJHWmH5k"
   },
   "outputs": [],
   "source": [
    "def showing_model_properties(model):\n",
    "    g = sns.FacetGrid(data=model, col='method', size=3)\n",
    "    g.map(sns.boxplot, 'mean', order=(0, 1), orient='v')\n",
    "    plt.show()\n",
    "\n",
    "    g = sns.FacetGrid(data=model, col='method', size=3)\n",
    "    g.map(sns.boxplot, 'variance', order=(0, 1), orient='v')\n",
    "    plt.show()"
   ]
  },
  {
   "cell_type": "code",
   "execution_count": 0,
   "metadata": {
    "colab": {},
    "colab_type": "code",
    "id": "YILcZVozmH5m"
   },
   "outputs": [],
   "source": [
    "def show_mixture_estimation(weights, data):\n",
    "    expected_mean = weights[0] * data.get('mean')[0] + weights[1] * data.get(\n",
    "        'mean')[1] + weights[2] * data.get('mean')[2]\n",
    "    expected_variance = 0\n",
    "    for i in range(len(weights)):\n",
    "        expected_variance += weights[i] * data.get('variance')[i]\n",
    "        expected_variance += weights[i] * math.pow(\n",
    "            (expected_mean - data.get('mean')[i]), 2)\n",
    "\n",
    "    print('expected_mean=', expected_mean, 'expected_variance',\n",
    "          expected_variance)"
   ]
  },
  {
   "cell_type": "markdown",
   "metadata": {},
   "source": [
    "# Modelling "
   ]
  },
  {
   "cell_type": "markdown",
   "metadata": {
    "colab_type": "text",
    "id": "u0_p_3r2mH5o"
   },
   "source": [
    "## Зададим параметры нормально распределённых случайных величин согласно случаю А: все страты имеют одинаковые мат. ожидания и дисперсии"
   ]
  },
  {
   "cell_type": "code",
   "execution_count": 0,
   "metadata": {
    "colab": {},
    "colab_type": "code",
    "id": "bWbHSzs8mH5p"
   },
   "outputs": [],
   "source": [
    "data = {'mean': [0, 0, 0], 'variance': [1, 1, 1]}\n",
    "distributions = pd.DataFrame(data=data)"
   ]
  },
  {
   "cell_type": "markdown",
   "metadata": {
    "colab_type": "text",
    "id": "zovqx7ZWmH5r"
   },
   "source": [
    "#### Смоделируем 1000 выборок, объёмом 40 значений каждая. И выведем графики с помощью функции showing_model_properties"
   ]
  },
  {
   "cell_type": "code",
   "execution_count": 0,
   "metadata": {
    "colab": {},
    "colab_type": "code",
    "id": "pBtiPq74mH5s",
    "outputId": "d06520f4-bb36-496c-c885-fa1169cdaca3"
   },
   "outputs": [
    {
     "data": {
      "image/png": "[encoded data removed]",
      "text/plain": [
       "<Figure size 648x216 with 3 Axes>"
      ]
     },
     "metadata": {
      "tags": []
     },
     "output_type": "display_data"
    },
    {
     "data": {
      "image/png": "[encoded data removed]",
      "text/plain": [
       "<Figure size 648x216 with 3 Axes>"
      ]
     },
     "metadata": {
      "tags": []
     },
     "output_type": "display_data"
    }
   ],
   "source": [
    "model_40 = modelling_all_samplings(weights, distributions, 40, 1000)\n",
    "showing_model_properties(model_40)"
   ]
  },
  {
   "cell_type": "markdown",
   "metadata": {
    "colab_type": "text",
    "id": "KEVheLP3mH5x"
   },
   "source": [
    "#### Аналогично смоделируем 1000 выборок, но уже объёмом 500 значений каждая"
   ]
  },
  {
   "cell_type": "code",
   "execution_count": 0,
   "metadata": {
    "colab": {},
    "colab_type": "code",
    "id": "Rgoxep0fmH5x",
    "outputId": "1031db9a-5785-4347-b609-c53ccfd5ed75"
   },
   "outputs": [
    {
     "data": {
      "image/png": "[encoded data removed]",
      "text/plain": [
       "<Figure size 648x216 with 3 Axes>"
      ]
     },
     "metadata": {
      "tags": []
     },
     "output_type": "display_data"
    },
    {
     "data": {
      "image/png": "[encoded data removed]",
      "text/plain": [
       "<Figure size 648x216 with 3 Axes>"
      ]
     },
     "metadata": {
      "tags": []
     },
     "output_type": "display_data"
    }
   ],
   "source": [
    "model_500 = modelling_all_samplings(weights, distributions, 500, 1000)\n",
    "showing_model_properties(model_500)"
   ]
  },
  {
   "cell_type": "code",
   "execution_count": 0,
   "metadata": {
    "colab": {},
    "colab_type": "code",
    "id": "jOhT_QbqmH50",
    "outputId": "c3300ee6-868a-401d-9b49-0fa75198d483"
   },
   "outputs": [
    {
     "name": "stdout",
     "output_type": "stream",
     "text": [
      "expected_mean= 0.0 expected_variance 1.0\n"
     ]
    }
   ],
   "source": [
    "show_mixture_estimation(weights, data)"
   ]
  },
  {
   "cell_type": "markdown",
   "metadata": {
    "colab_type": "text",
    "id": "eVHJNSPCmH53"
   },
   "source": [
    "Мат. ожидание и дисперсия генеральной совокупности равны 0 и 1 соответственно.\n",
    "\n",
    "Так как параметры всех трёх с.в. одинаковы, то разницы между первым и вторым способом сэмплирования нет: брать значения случайно из трёх одинаковых распределений или же пропорционально из трёх одинаковых распределений - одно и то же.\n",
    "Также второй способ идентичен третьему, так как дисперсии у трёх с.в. равны, а значит, доли этих с.в. не изменятся в оптимальном сэмплировании.\n",
    "\n",
    "Получается, что в случае, когда нормально распределённые случайные величины, составляющие генеральную совокупность, имеют одинаковые мат. ожидания и дисперсии, данные способы сэмплирования не отличаются друг от друга.\n",
    "\n",
    "Какими свойствами обладают оценки на основе полученных выборок:\n",
    "\n",
    "1. Все три способа дают несмещённую оценку, так как мат ожидание среднего и мат ожидание дисперсии совпадают с параметрами г.с.\n",
    "2. Все три способа дают состоятельную оценку. В этом можно убедиться, обратив внимание на графики второй модели, где размеры выборки увеличены до 500 вместо 40. С увеличением объёма выборки интерквартильный размах сузился, то есть разброс оценки уменьшается.\n",
    "3. Все три способа эффективны. Дисперсии всех оценок одинаковы, поэтому каждую дисперсию можно считать минимальной"
   ]
  },
  {
   "cell_type": "markdown",
   "metadata": {
    "colab_type": "text",
    "id": "cfAOY5iSmH54"
   },
   "source": [
    "## Зададим параметры нормально распределённых случайных величин согласно случаю Б: страты имеют разные мат.ожидания, но одинаковые дисперсии"
   ]
  },
  {
   "cell_type": "code",
   "execution_count": 0,
   "metadata": {
    "colab": {},
    "colab_type": "code",
    "id": "m2Di91DPmH55"
   },
   "outputs": [],
   "source": [
    "data = {'mean': [0, 5, 10], 'variance': [1, 1, 1]}\n",
    "distributions = pd.DataFrame(data=data)"
   ]
  },
  {
   "cell_type": "markdown",
   "metadata": {
    "colab_type": "text",
    "id": "o5HOK2EhmH57"
   },
   "source": [
    "#### Смоделируем 1000 выборок, объёмом 40 значений каждая. И выведем графики с помощью функции showing_model_properties"
   ]
  },
  {
   "cell_type": "code",
   "execution_count": 0,
   "metadata": {
    "colab": {},
    "colab_type": "code",
    "id": "LZg6EBWrmH57",
    "outputId": "cb605ff8-b685-40d5-8d18-c68dea00cecf",
    "scrolled": true
   },
   "outputs": [
    {
     "data": {
      "image/png": "[encoded data removed]",
      "text/plain": [
       "<Figure size 648x216 with 3 Axes>"
      ]
     },
     "metadata": {
      "tags": []
     },
     "output_type": "display_data"
    },
    {
     "data": {
      "image/png": "[encoded data removed]",
      "text/plain": [
       "<Figure size 648x216 with 3 Axes>"
      ]
     },
     "metadata": {
      "tags": []
     },
     "output_type": "display_data"
    }
   ],
   "source": [
    "model_40 = modelling_all_samplings(weights, distributions, 40, 1000)\n",
    "showing_model_properties(model_40)"
   ]
  },
  {
   "cell_type": "markdown",
   "metadata": {
    "colab_type": "text",
    "id": "lm-tBXAymH6C"
   },
   "source": [
    "#### Аналогично смоделируем 1000 выборок, но уже объёмом 500 значений каждая"
   ]
  },
  {
   "cell_type": "code",
   "execution_count": 0,
   "metadata": {
    "colab": {},
    "colab_type": "code",
    "id": "hrEBTY5imH6D",
    "outputId": "1978d22f-1809-4c32-ae36-613fd3795b9a"
   },
   "outputs": [
    {
     "data": {
      "image/png": "[encoded data removed]",
      "text/plain": [
       "<Figure size 648x216 with 3 Axes>"
      ]
     },
     "metadata": {
      "tags": []
     },
     "output_type": "display_data"
    },
    {
     "data": {
      "image/png": "[encoded data removed]",
      "text/plain": [
       "<Figure size 648x216 with 3 Axes>"
      ]
     },
     "metadata": {
      "tags": []
     },
     "output_type": "display_data"
    }
   ],
   "source": [
    "model_500 = modelling_all_samplings(weights, distributions, 500, 1000)\n",
    "showing_model_properties(model_500)"
   ]
  },
  {
   "cell_type": "code",
   "execution_count": 0,
   "metadata": {
    "colab": {},
    "colab_type": "code",
    "id": "dXLOzXRGmH6H",
    "outputId": "dfd9ac96-28b9-4a45-b111-f8deb3041e73"
   },
   "outputs": [
    {
     "name": "stdout",
     "output_type": "stream",
     "text": [
      "expected_mean= 5.5 expected_variance 13.25\n"
     ]
    }
   ],
   "source": [
    "show_mixture_estimation(weights, data)"
   ]
  },
  {
   "cell_type": "markdown",
   "metadata": {
    "colab_type": "text",
    "id": "bvlPoIMPmH6L"
   },
   "source": [
    "Мат. ожидание и дисперсия генеральной совокупности равны 5.5 и 13.25 соответственно.\n",
    "\n",
    "Второй способ так же идентичен третьему, так как дисперсии у трёх с.в. равны, а значит, доли этих с.в. не изменятся в оптимальном сэмплировании.\n",
    "Но так как средние значения всех трёх с.в. разные, мы видим заметную разницу в разбросах значений между первым способом и вторыми двумя. Разброс у первого способа больше, так как иногда выборки набираются не точно согласно долям страт и получаются более изменчивыми.\n",
    "\n",
    "Получается, что в случае, когда нормально распределённые случайные величины, составляющие генеральную совокупность, имеют разные мат. ожидания и одинаковые дисперсии, пропорциональный и оптимальный способы разбиения на подсэмплы не отличаются друг от друга и дают меньший разброс, нежели простой случайный выбор.\n",
    "\n",
    "Какими свойствами обладают оценки на основе полученных выборок:\n",
    "\n",
    "1. Все три способа дают несмещённую оценку, так как мат ожидание среднего и мат ожидание дисперсии совпадают с параметрами г.с.\n",
    "2. Все три способа дают состоятельную оценку. В этом можно убедиться, обратив внимание на графики второй модели, где размеры выборки увеличены до 500 вместо 40. С увеличением объёма выборки интерквартильный размах сузился, то есть разброс оценки уменьшается.\n",
    "3. Пропорциональный и оптимальный способ одинаково эффективнее случайного, так как дают меньший разброс оценок мат. ожидания и дисперсии."
   ]
  },
  {
   "cell_type": "markdown",
   "metadata": {
    "colab_type": "text",
    "id": "zWAU_Ko-mH6M"
   },
   "source": [
    "## Зададим параметры нормально распределённых случайных величин согласно случаю В: страты имеют разные и мат. ожидания и дисперсии."
   ]
  },
  {
   "cell_type": "code",
   "execution_count": 0,
   "metadata": {
    "colab": {},
    "colab_type": "code",
    "id": "d1qEUggfmH6N"
   },
   "outputs": [],
   "source": [
    "data = {'mean': [1, 5, 10], 'variance': [1000, 4, 1]}\n",
    "distributions = pd.DataFrame(data=data)"
   ]
  },
  {
   "cell_type": "markdown",
   "metadata": {
    "colab_type": "text",
    "id": "hRWZ7wHimH6P"
   },
   "source": [
    "#### Смоделируем 1000 выборок, объёмом 40 значений каждая. И выведем графики с помощью функции showing_model_properties"
   ]
  },
  {
   "cell_type": "code",
   "execution_count": 0,
   "metadata": {
    "colab": {},
    "colab_type": "code",
    "id": "Srq-b_fjmH6Q",
    "outputId": "266e228b-20d4-4fd8-b4ee-698a9a73de0a"
   },
   "outputs": [
    {
     "data": {
      "image/png": "[encoded data removed]",
      "text/plain": [
       "<Figure size 648x216 with 3 Axes>"
      ]
     },
     "metadata": {
      "tags": []
     },
     "output_type": "display_data"
    },
    {
     "data": {
      "image/png": "[encoded data removed]",
      "text/plain": [
       "<Figure size 648x216 with 3 Axes>"
      ]
     },
     "metadata": {
      "tags": []
     },
     "output_type": "display_data"
    }
   ],
   "source": [
    "model_40 = modelling_all_samplings(weights, distributions, 40, 1000)\n",
    "showing_model_properties(model_40)"
   ]
  },
  {
   "cell_type": "markdown",
   "metadata": {
    "colab_type": "text",
    "id": "JHLBnT8wmH6S"
   },
   "source": [
    "#### Аналогично смоделируем 1000 выборок, но уже объёмом 500 значений каждая"
   ]
  },
  {
   "cell_type": "code",
   "execution_count": 0,
   "metadata": {
    "colab": {},
    "colab_type": "code",
    "id": "0WKPJCkFmH6T",
    "outputId": "409ed2df-5b2f-4ae8-fb8f-ca8ca1ad56cc"
   },
   "outputs": [
    {
     "data": {
      "image/png": "[encoded data removed]",
      "text/plain": [
       "<Figure size 648x216 with 3 Axes>"
      ]
     },
     "metadata": {
      "tags": []
     },
     "output_type": "display_data"
    },
    {
     "data": {
      "image/png": "[encoded data removed]",
      "text/plain": [
       "<Figure size 648x216 with 3 Axes>"
      ]
     },
     "metadata": {
      "tags": []
     },
     "output_type": "display_data"
    }
   ],
   "source": [
    "model_500 = modelling_all_samplings(weights, distributions, 500, 1000)\n",
    "showing_model_properties(model_500)"
   ]
  },
  {
   "cell_type": "code",
   "execution_count": 0,
   "metadata": {
    "colab": {},
    "colab_type": "code",
    "id": "8E4lK_wPmH6X",
    "outputId": "270bbea0-7c09-4017-f937-fba615cd5dd2"
   },
   "outputs": [
    {
     "name": "stdout",
     "output_type": "stream",
     "text": [
      "expected_mean= 5.7 expected_variance 212.51000000000002\n"
     ]
    }
   ],
   "source": [
    "show_mixture_estimation(weights, data)"
   ]
  },
  {
   "cell_type": "markdown",
   "metadata": {
    "colab_type": "text",
    "id": "_322RvdjmH6a"
   },
   "source": [
    "Мат. ожидание и дисперсия генеральной совокупности равны 5.7 и 212.51 соответственно.\n",
    "\n",
    "Второй способ и третий способы перестали совпадать, так как дисперсии перестали быть равными, а значит, доли этих с.в. изменились в оптимальном сэмплировании. Разброс третьего способа стал меньше, чем у второго.\n",
    "Пропорциональный способ опять же имеет чуть меньший интерквартильный размах, чем случайный способ, но при объёме выборок, равном 500, разница почти незаметна. \n",
    "\n",
    "Получается, что в случае, когда нормально распределённые случайные величины, составляющие генеральную совокупность, имеют разные мат. ожидания и разные дисперсии, оптимальный способ разбиения на подсэмплы имеет меньший разброс, чем пропорциональный способ. В свою очередь пропорциональный способ имеет меньший разброс, чем случайный.\n",
    "\n",
    "Какими свойствами обладают оценки на основе полученных выборок:\n",
    "\n",
    "1. Все три способа дают несмещённую оценку, так как мат ожидание среднего и мат ожидание дисперсии совпадают с параметрами г.с.\n",
    "2. Все три способа дают состоятельную оценку. В этом можно убедиться, обратив внимание на графики второй модели, где размеры выборки увеличены до 500 вместо 40. С увеличением объёма выборки интерквартильный размах сузился, то есть разброс оценки уменьшается.\n",
    "3. Оптимальный способ эффективнее двух других, так как даёт меньший разброс оценок мат. ожидания и дисперсии."
   ]
  }
 ],
 "metadata": {
  "colab": {
   "name": "HW1_T2.ipynb",
   "provenance": [],
   "version": "0.3.2"
  },
  "kernelspec": {
   "display_name": "Python 3",
   "language": "python",
   "name": "python3"
  },
  "language_info": {
   "codemirror_mode": {
    "name": "ipython",
    "version": 3
   },
   "file_extension": ".py",
   "mimetype": "text/x-python",
   "name": "python",
   "nbconvert_exporter": "python",
   "pygments_lexer": "ipython3",
   "version": "3.6.9"
  },
  "latex_envs": {
   "LaTeX_envs_menu_present": true,
   "autoclose": false,
   "autocomplete": true,
   "bibliofile": "biblio.bib",
   "cite_by": "apalike",
   "current_citInitial": 1,
   "eqLabelWithNumbers": true,
   "eqNumInitial": 1,
   "hotkeys": {
    "equation": "Ctrl-E",
    "itemize": "Ctrl-I"
   },
   "labels_anchors": false,
   "latex_user_defs": false,
   "report_style_numbering": false,
   "user_envs_cfg": false
  },
  "toc": {
   "base_numbering": 1,
   "nav_menu": {},
   "number_sections": true,
   "sideBar": true,
   "skip_h1_title": false,
   "title_cell": "Table of Contents",
   "title_sidebar": "Contents",
   "toc_cell": false,
   "toc_position": {},
   "toc_section_display": true,
   "toc_window_display": true
  },
  "varInspector": {
   "cols": {
    "lenName": 16,
    "lenType": 16,
    "lenVar": 40
   },
   "kernels_config": {
    "python": {
     "delete_cmd_postfix": "",
     "delete_cmd_prefix": "del ",
     "library": "var_list.py",
     "varRefreshCmd": "print(var_dic_list())"
    },
    "r": {
     "delete_cmd_postfix": ") ",
     "delete_cmd_prefix": "rm(",
     "library": "var_list.r",
     "varRefreshCmd": "cat(var_dic_list()) "
    }
   },
   "types_to_exclude": [
    "module",
    "function",
    "builtin_function_or_method",
    "instance",
    "_Feature"
   ],
   "window_display": false
  }
 },
 "nbformat": 4,
 "nbformat_minor": 1
}
