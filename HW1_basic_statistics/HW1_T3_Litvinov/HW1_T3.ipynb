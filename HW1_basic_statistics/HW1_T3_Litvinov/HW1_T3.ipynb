{
 "cells": [
  {
   "cell_type": "markdown",
   "metadata": {},
   "source": [
    "# Критерий Вальда, две простых гипотезы\n",
    "\n",
    "Полезные ссылки:\n",
    "- https://www.youtube.com/watch?v=4NYbTUIkBbU&index=4&list=PLlb7e2G7aSpRG_Ve6kuxc9Biuwyf42kJx\n",
    "- https://en.wikipedia.org/wiki/Sequential_probability_ratio_test"
   ]
  },
  {
   "cell_type": "markdown",
   "metadata": {},
   "source": [
    "Пусть $X_{[i]}=(X_1, X_2, ..., X_i)$ - выборка, \n",
    "\n",
    "Сформулируем две гипотезы:\n",
    "\n",
    "$H_0: F_\\xi=F_0$\n",
    "$H_1: F_\\xi=F_1$, построим\n",
    "\n",
    "Отношение функций правдоподобия\n",
    "\n",
    "$$Z(X_{[i]}) = \\frac{L(X_{[i]}, F_1)}{L(X_{[i]}, F_0)}, \\mathbf{где } L(X_{[i]}, F_0)=\\prod_{k=1}^{i}f_0(X_k)$$\n",
    "\n",
    "Зададим две границы:\n",
    "\n",
    "$$c_0 \\le Z(X_{[i]}) \\le c1 $$\n",
    "\n",
    "При выходе за $c_0$ - принимаем $H_0$, при выходе за $c_1$ принимаем $H_1$, иначе продолжаем эксперименты.\n",
    "\n",
    "### Выбор констант\n",
    "\n",
    "$$ 0 < c_0 < 1 < c_1 < \\inf $$\n",
    "$$ \\alpha \\le \\frac{1-\\beta}{c_1} \\le \\frac{1}{c_1} $$\n",
    "$$ \\beta \\le (1-\\alpha)c_0 \\le c_0 $$\n",
    "\n",
    "Тогда можно приблизить:\n",
    "\n",
    "$$\\tilde{c}_0 = \\frac{\\beta}{1 - \\alpha}, \\tilde{c}_1 = \\frac{1-\\beta}{\\alpha} $$\n"
   ]
  },
  {
   "cell_type": "markdown",
   "metadata": {
    "colab_type": "text",
    "id": "eD5m99AvWowl"
   },
   "source": [
    "# Libs"
   ]
  },
  {
   "cell_type": "code",
   "execution_count": 0,
   "metadata": {
    "colab": {
     "autoexec": {
      "startup": false,
      "wait_interval": 0
     }
    },
    "colab_type": "code",
    "id": "vTrKjw3JWown"
   },
   "outputs": [],
   "source": [
    "import numpy as np\n",
    "import seaborn as sns\n",
    "import scipy.stats as stats\n",
    "import pandas as pd\n",
    "import math\n",
    "import matplotlib.pyplot as plt"
   ]
  },
  {
   "cell_type": "markdown",
   "metadata": {
    "colab_type": "text",
    "id": "BH5jSbBRWowq"
   },
   "source": [
    "# Funcs"
   ]
  },
  {
   "cell_type": "markdown",
   "metadata": {
    "colab_type": "text",
    "id": "-z1xxlGjWowr"
   },
   "source": [
    "Создадим функцию для генерации генеральной совокупности, полученной путём смешивания выборок из нормальных распределений с разными параметрами. "
   ]
  },
  {
   "cell_type": "code",
   "execution_count": 0,
   "metadata": {
    "colab": {
     "autoexec": {
      "startup": false,
      "wait_interval": 0
     }
    },
    "colab_type": "code",
    "id": "7GlceC9lWows"
   },
   "outputs": [],
   "source": [
    "'''\n",
    "Функция простого случайного выбора. Возвращает массив размера size. \n",
    "Согласно весам распределений weights случайно выбирается одно из трёх распределений. \n",
    "Из выбранного распределения (согласно параметрам распределения из датафрейма distributions) \n",
    "выбирается случайное значение, которое и записывается в выборку.\n",
    "'''\n",
    "\n",
    "\n",
    "def simple_random_sampling(size, weights, distributions):\n",
    "\n",
    "    sample = []\n",
    "    choices = []\n",
    "\n",
    "    #Выбираем распределения случайным образом согласно вероятностям из листа weights\n",
    "    choices.extend(np.random.choice(range(len(weights)), size=size, p=weights))\n",
    "\n",
    "    for i in range(len(weights)):\n",
    "        #Добавляем в лист случайные значения из i-ого распределения согласно его доле\n",
    "        sample.extend(\n",
    "            np.random.normal(loc=distributions.at[i, 'mean'],\n",
    "                             scale=distributions.at[i, 'std'],\n",
    "                             size=choices.count(i)))\n",
    "\n",
    "    #Так как элементы в ПКОП обрабатываются по порядку, обязательно их перемешаем,\n",
    "    #чтобы при начале работы функции не обрабатывались элементы только\n",
    "    #из одного распределения\n",
    "    sample = np.array(sample)\n",
    "    np.random.shuffle(sample)\n",
    "    return sample"
   ]
  },
  {
   "cell_type": "code",
   "execution_count": 0,
   "metadata": {
    "colab": {
     "autoexec": {
      "startup": false,
      "wait_interval": 0
     }
    },
    "colab_type": "code",
    "id": "jCqH1SIsWowu"
   },
   "outputs": [],
   "source": [
    "'''\n",
    "Функция последовательного критерия отношения правдоподобий (SPRT).\n",
    "Функция проводит наблюдения над элементами выборки sample\n",
    "до первого элемента sample[i], при котором можно принять гипотезу H0 или H1,\n",
    "которым соответствуют распределения D0 и D1.\n",
    "Гипотезы проверяются для заданных ошибок 1-го и 2-го рода\n",
    "'''\n",
    "\n",
    "\n",
    "def wald_test(sample, D0, D1, alpha, beta):\n",
    "\n",
    "    c_0, c_1 = bounds_approximation(alpha, beta)\n",
    "\n",
    "    Z = D1.pdf(sample[0]) / D0.pdf(sample[0])\n",
    "\n",
    "    i = 1\n",
    "    while (c_0 <= Z <= c_1 and i < len(sample)):\n",
    "        Z *= D1.pdf(sample[i]) / D0.pdf(sample[i])\n",
    "        i += 1\n",
    "\n",
    "    if Z < c_0:\n",
    "        return 0, i\n",
    "    elif Z > c_1:\n",
    "        return 1, i\n",
    "    else:\n",
    "        return -1"
   ]
  },
  {
   "cell_type": "markdown",
   "metadata": {
    "colab_type": "text",
    "id": "r1Tbw1LgWoww"
   },
   "source": [
    "Создадим функцию аппроксимации границ c0, c1 согласно лемме ![alt text](lemma.png \"Title\")"
   ]
  },
  {
   "cell_type": "code",
   "execution_count": 0,
   "metadata": {
    "colab": {
     "autoexec": {
      "startup": false,
      "wait_interval": 0
     }
    },
    "colab_type": "code",
    "id": "cEEyjZFdWowx"
   },
   "outputs": [],
   "source": [
    "def bounds_approximation(alpha, beta):\n",
    "\n",
    "    #левая граница\n",
    "    c_0 = beta / (1 - alpha)\n",
    "    #правая граница\n",
    "    c_1 = (1 - beta) / alpha\n",
    "\n",
    "    return c_0, c_1"
   ]
  },
  {
   "cell_type": "markdown",
   "metadata": {
    "colab_type": "text",
    "id": "8WEF5ykdWowz"
   },
   "source": [
    "Для выяснения, не менее скольки наблюдений в среднем необходимо провести при использовании ПКОП силы (α,β), в случае справедливости нулевой гипотезы, была написана функция"
   ]
  },
  {
   "cell_type": "code",
   "execution_count": 0,
   "metadata": {
    "colab": {
     "autoexec": {
      "startup": false,
      "wait_interval": 0
     }
    },
    "colab_type": "code",
    "id": "AvxtuMG4Wow0"
   },
   "outputs": [],
   "source": [
    "'''\n",
    "Функция проводит iterations экспериментов с выборками размера size.\n",
    "Выводит количество экспериментов, в которых была принята нулевая гипотеза,\n",
    "а также среднее количество шагов до принятия нулевой гипотезы\n",
    "'''\n",
    "\n",
    "\n",
    "def count_steps_null_hyp(size, weights, distributions, D0, D1, alpha, beta,\n",
    "                         iterations):\n",
    "    steps = []\n",
    "    null_accepted = 0\n",
    "\n",
    "    for i in range(iterations):\n",
    "        sample = simple_random_sampling(size, weights, distributions)\n",
    "        res, step = wald_test(sample, D0, D1, alpha, beta)\n",
    "        if (res == 0):\n",
    "            null_accepted += 1\n",
    "            steps.append(step)\n",
    "\n",
    "    print(\"Нулевая гипотеза принята {} раз из {}\\n\\\n",
    "Среднее количество шагов до принятия гипотезы: {}\".format(\n",
    "        null_accepted, iterations,\n",
    "        np.asarray(steps).mean()))"
   ]
  },
  {
   "cell_type": "markdown",
   "metadata": {
    "colab_type": "text",
    "id": "xbYpUzfVWow3"
   },
   "source": [
    "# Wald test usage"
   ]
  },
  {
   "cell_type": "markdown",
   "metadata": {},
   "source": [
    "## Different weight"
   ]
  },
  {
   "cell_type": "markdown",
   "metadata": {
    "colab_type": "text",
    "id": "VDIqlS67Wow3"
   },
   "source": [
    "Определение параметров задачи"
   ]
  },
  {
   "cell_type": "code",
   "execution_count": 0,
   "metadata": {
    "colab": {
     "autoexec": {
      "startup": false,
      "wait_interval": 0
     }
    },
    "colab_type": "code",
    "id": "tlS1tzLDWow3"
   },
   "outputs": [],
   "source": [
    "#Зададим доли страт нормальных распределений в генеральной совокупности\n",
    "weight_0 = 0.1\n",
    "weight_1 = 0.7\n",
    "weight_2 = 0.2\n",
    "\n",
    "weights = [weight_0, weight_1, weight_2]\n",
    "\n",
    "#Зададим параметры нормально распределённых случайных величин\n",
    "data = {'mean': [0, 5, 10], 'std': [1, 2, 3]}\n",
    "distributions = pd.DataFrame(data=data)\n",
    "D0 = stats.norm(distributions['mean'][0], distributions['std'][0])\n",
    "D1 = stats.norm(distributions['mean'][1], distributions['std'][1])\n",
    "D2 = stats.norm(distributions['mean'][2], distributions['std'][2])\n",
    "\n",
    "# Зафиксируем ошибку 1-го и максимально желаемую ошибку 2-го рода\n",
    "alpha = 0.001\n",
    "beta = 0.001"
   ]
  },
  {
   "cell_type": "markdown",
   "metadata": {
    "colab_type": "text",
    "id": "kPjcMfgjWow6"
   },
   "source": [
    "Сгенерируем синтетические данные путем смешивания выборок из нормальных распределений с разными параметрами"
   ]
  },
  {
   "cell_type": "code",
   "execution_count": 0,
   "metadata": {
    "colab": {
     "autoexec": {
      "startup": false,
      "wait_interval": 0
     }
    },
    "colab_type": "code",
    "id": "MowWTFC4Wow7"
   },
   "outputs": [],
   "source": [
    "sample = simple_random_sampling(5000, weights, distributions)"
   ]
  },
  {
   "cell_type": "markdown",
   "metadata": {
    "colab_type": "text",
    "id": "TgKcHF6rWow-"
   },
   "source": [
    "Выведем гистограмму с соответствующей функцией плотности вероятности"
   ]
  },
  {
   "cell_type": "code",
   "execution_count": 0,
   "metadata": {
    "colab": {
     "autoexec": {
      "startup": false,
      "wait_interval": 0
     }
    },
    "colab_type": "code",
    "id": "e2rryxrIWow_",
    "outputId": "bce4ba13-a392-430e-cbd8-f3ace9e69d52"
   },
   "outputs": [
    {
     "data": {
      "image/png": "[encoded data removed]",
      "text/plain": [
       "<matplotlib.figure.Figure at 0x13bf0aa6748>"
      ]
     },
     "metadata": {
      "tags": []
     },
     "output_type": "display_data"
    }
   ],
   "source": [
    "sns.distplot(sample)\n",
    "plt.show()"
   ]
  },
  {
   "cell_type": "markdown",
   "metadata": {
    "colab_type": "text",
    "id": "b6BQj7vhWoxD"
   },
   "source": [
    "### Применим ПКОП (критерий Вальда) силы (0.001, 0.001) для D1 и D0. Им соответствуют гипотезы H0 и Н1. Нулевая гипотеза была выбрана из предположения о том, что г.с. подчиняется распределению с доминирующим весом (доля распределения D1 равна 0.7)"
   ]
  },
  {
   "cell_type": "code",
   "execution_count": 0,
   "metadata": {
    "colab": {
     "autoexec": {
      "startup": false,
      "wait_interval": 0
     }
    },
    "colab_type": "code",
    "id": "O3bwnTBNWoxE",
    "outputId": "0a3db96e-f7c3-43e1-e3f1-05d5f929e1d1"
   },
   "outputs": [
    {
     "name": "stdout",
     "output_type": "stream",
     "text": [
      "Гипотеза H0 принята после 2 шагов\n"
     ]
    }
   ],
   "source": [
    "res, steps = wald_test(sample, D1, D0, alpha, beta)\n",
    "if res == 0:\n",
    "    print('Гипотеза H0 принята после {} шагов'.format(steps))\n",
    "elif res == 1:\n",
    "    print('Гипотеза H1 принята после {} шагов'.format(steps))\n",
    "else:\n",
    "    print('Выход за границы выборки')"
   ]
  },
  {
   "cell_type": "markdown",
   "metadata": {
    "colab_type": "text",
    "id": "xJyusBaeWoxH"
   },
   "source": [
    "Доля распределения D1 подавляющая, и распределения D0 и D2, находящиеся по обе стороны от D1, не вносят заметного вклада. Поэтому, как и ожидалось, после небольшого количества шагов была принята нулевая гипотеза (г.с. подчиняется закону распределения D1)"
   ]
  },
  {
   "cell_type": "markdown",
   "metadata": {
    "colab_type": "text",
    "id": "zD8iGA_iWoxI"
   },
   "source": [
    "Проведём тысячу экспериментов для выборок размером 1000 элементов с целью удостовериться, что почти всегда принимается нулевая гипотеза (распределение D1) и что количество шагов для принятия решения достаточно мало"
   ]
  },
  {
   "cell_type": "code",
   "execution_count": 0,
   "metadata": {
    "colab": {
     "autoexec": {
      "startup": false,
      "wait_interval": 0
     }
    },
    "colab_type": "code",
    "id": "OnoAm6SqWoxI",
    "outputId": "cb7689f3-33b2-4f00-d2f8-dc65c00005d3"
   },
   "outputs": [
    {
     "name": "stdout",
     "output_type": "stream",
     "text": [
      "Нулевая гипотеза принята 987 раз из 1000\n",
      "Среднее количество шагов до принятия гипотезы: 1.4397163120567376\n"
     ]
    }
   ],
   "source": [
    "count_steps_null_hyp(1000, weights, distributions, D1, D0, alpha, beta, 1000)"
   ]
  },
  {
   "cell_type": "markdown",
   "metadata": {
    "colab_type": "text",
    "id": "88GdeUPoWoxO"
   },
   "source": [
    "### Применим ПКОП (критерий Вальда) силы (0.001, 0.001) для D1 и D2. Им соответствуют гипотезы H0 и Н1. Нулевая гипотеза выбрана из того же предположения, что и в предыдущем пункте"
   ]
  },
  {
   "cell_type": "code",
   "execution_count": 0,
   "metadata": {
    "colab": {
     "autoexec": {
      "startup": false,
      "wait_interval": 0
     }
    },
    "colab_type": "code",
    "id": "6gKUrjioWoxP",
    "outputId": "60a15ba9-ce99-49a4-c8b3-49f5bec9f7c7"
   },
   "outputs": [
    {
     "name": "stdout",
     "output_type": "stream",
     "text": [
      "Гипотеза H0 принята после 5 шагов\n"
     ]
    }
   ],
   "source": [
    "res, steps = wald_test(sample, D1, D2, alpha, beta)\n",
    "if res == 0:\n",
    "    print('Гипотеза H0 принята после {} шагов'.format(steps))\n",
    "elif res == 1:\n",
    "    print('Гипотеза H1 принята после {} шагов'.format(steps))\n",
    "else:\n",
    "    print('Выход за границы выборки')"
   ]
  },
  {
   "cell_type": "code",
   "execution_count": 0,
   "metadata": {
    "colab": {
     "autoexec": {
      "startup": false,
      "wait_interval": 0
     }
    },
    "colab_type": "code",
    "id": "fZ4_97AdWoxS",
    "outputId": "5395c6db-0e0c-402c-988a-2050f6ca7101"
   },
   "outputs": [
    {
     "name": "stdout",
     "output_type": "stream",
     "text": [
      "Нулевая гипотеза принята 799 раз из 1000\n",
      "Среднее количество шагов до принятия гипотезы: 7.022528160200251\n"
     ]
    }
   ],
   "source": [
    "count_steps_null_hyp(1000, weights, distributions, D1, D2, alpha, beta, 1000)"
   ]
  },
  {
   "cell_type": "markdown",
   "metadata": {
    "colab_type": "text",
    "id": "WVOObvUnWoxc"
   },
   "source": [
    "При сравнении распределений D2 и D1 ситуация похожая, но количество шагов и доля принятых альтернативных гипотез увелчиваются ввиду большей схожести распределений D2 и D1 (по сравнению с D1 и D0)"
   ]
  },
  {
   "cell_type": "markdown",
   "metadata": {
    "colab_type": "text",
    "id": "2JnstoGbWoxd"
   },
   "source": [
    "#### Ради эксперимента попробуем уменьшить ошибки первого и второго рода. Ожидаем увеличение количества шагов, так как левый порог, с которым сравнивается  отношение функций правдоподобия уменьшится, а правый-увеличится."
   ]
  },
  {
   "cell_type": "code",
   "execution_count": 0,
   "metadata": {
    "colab": {
     "autoexec": {
      "startup": false,
      "wait_interval": 0
     }
    },
    "colab_type": "code",
    "id": "0rHT8OWDWoxd",
    "outputId": "98f4b9c3-56b3-41a5-f821-daa4f8f9d2ef"
   },
   "outputs": [
    {
     "name": "stdout",
     "output_type": "stream",
     "text": [
      "Гипотеза H0 принята после 7 шагов\n"
     ]
    }
   ],
   "source": [
    "alpha = 0.00001\n",
    "beta = 0.00001\n",
    "\n",
    "res, steps = wald_test(sample, D1, D2, alpha, beta)\n",
    "if res == 0:\n",
    "    print('Гипотеза H0 принята после {} шагов'.format(steps))\n",
    "elif res == 1:\n",
    "    print('Гипотеза H1 принята после {} шагов'.format(steps))\n",
    "else:\n",
    "    print('Выход за границы выборки')"
   ]
  },
  {
   "cell_type": "code",
   "execution_count": 0,
   "metadata": {
    "colab": {
     "autoexec": {
      "startup": false,
      "wait_interval": 0
     }
    },
    "colab_type": "code",
    "id": "X7LbF4vHWoxg",
    "outputId": "792bcb9c-b47d-4381-c5de-052bc836eae6"
   },
   "outputs": [
    {
     "name": "stdout",
     "output_type": "stream",
     "text": [
      "Нулевая гипотеза принята 871 раз из 1000\n",
      "Среднее количество шагов до принятия гипотезы: 14.318025258323766\n"
     ]
    }
   ],
   "source": [
    "count_steps_null_hyp(1000, weights, distributions, D1, D2, alpha, beta, 1000)"
   ]
  },
  {
   "cell_type": "markdown",
   "metadata": {
    "colab_type": "text",
    "id": "04yxktaPWoxj"
   },
   "source": [
    "## Equal weights\n",
    "Теперь попробуем изменить доли распределений в генеральной совокупности. Сделаем их равными"
   ]
  },
  {
   "cell_type": "code",
   "execution_count": 0,
   "metadata": {
    "colab": {
     "autoexec": {
      "startup": false,
      "wait_interval": 0
     }
    },
    "colab_type": "code",
    "id": "c2unOPJmWoxk"
   },
   "outputs": [],
   "source": [
    "weight_0 = 0.33\n",
    "weight_1 = 0.33\n",
    "weight_2 = 0.34\n",
    "\n",
    "weights = [weight_0, weight_1, weight_2]\n",
    "\n",
    "alpha = 0.001\n",
    "beta = 0.001"
   ]
  },
  {
   "cell_type": "code",
   "execution_count": 0,
   "metadata": {
    "colab": {
     "autoexec": {
      "startup": false,
      "wait_interval": 0
     }
    },
    "colab_type": "code",
    "id": "U83HRZ7nWoxl"
   },
   "outputs": [],
   "source": [
    "sample = simple_random_sampling(5000, weights, distributions)"
   ]
  },
  {
   "cell_type": "markdown",
   "metadata": {
    "colab_type": "text",
    "id": "cBpLdYJPWoxn"
   },
   "source": [
    "Выведем гистограмму с соответствующей функцией плотности вероятности"
   ]
  },
  {
   "cell_type": "code",
   "execution_count": 0,
   "metadata": {
    "colab": {
     "autoexec": {
      "startup": false,
      "wait_interval": 0
     }
    },
    "colab_type": "code",
    "id": "K6hmTuGeWoxo",
    "outputId": "ad56512a-9ec4-4409-ef63-66641eb8c1ee"
   },
   "outputs": [
    {
     "data": {
      "image/png": "[encoded data removed]",
      "text/plain": [
       "<matplotlib.figure.Figure at 0x13bf12375f8>"
      ]
     },
     "metadata": {
      "tags": []
     },
     "output_type": "display_data"
    }
   ],
   "source": [
    "sns.distplot(sample)\n",
    "plt.show()"
   ]
  },
  {
   "cell_type": "markdown",
   "metadata": {
    "colab_type": "text",
    "id": "5-f6dLl1Woxr"
   },
   "source": [
    "Видим, что с уменьшением преобладания распределения D1, стало более заметно влияние на г.с. распределений D0 и D2"
   ]
  },
  {
   "cell_type": "markdown",
   "metadata": {
    "colab_type": "text",
    "id": "bqfVDpUpWoxr"
   },
   "source": [
    "### Применим по очереди ПКОП (критерий Вальда) силы (0.001, 0.001) для пар: D0 и D1; D1 и D2;  D0 и D2. Нулевая гипотеза: г.с. подчиняется первому распределению из пары"
   ]
  },
  {
   "cell_type": "code",
   "execution_count": 0,
   "metadata": {
    "colab": {
     "autoexec": {
      "startup": false,
      "wait_interval": 0
     }
    },
    "colab_type": "code",
    "id": "_-tBcwRLWoxs",
    "outputId": "9ca455f1-0220-4c48-d2e5-5340a201a4dc"
   },
   "outputs": [
    {
     "name": "stdout",
     "output_type": "stream",
     "text": [
      "Нулевая гипотеза принята 75 раз из 1000\n",
      "Среднее количество шагов до принятия гипотезы: 2.4266666666666667\n"
     ]
    }
   ],
   "source": [
    "count_steps_null_hyp(1000, weights, distributions, D0, D1, alpha, beta, 1000)"
   ]
  },
  {
   "cell_type": "code",
   "execution_count": 0,
   "metadata": {
    "colab": {
     "autoexec": {
      "startup": false,
      "wait_interval": 0
     }
    },
    "colab_type": "code",
    "id": "TvTqrf40Woxu",
    "outputId": "fe0dfa19-5457-46d9-bb3c-2d9c808c48b6"
   },
   "outputs": [
    {
     "name": "stdout",
     "output_type": "stream",
     "text": [
      "Нулевая гипотеза принята 682 раз из 1000\n",
      "Среднее количество шагов до принятия гипотезы: 6.706744868035191\n"
     ]
    }
   ],
   "source": [
    "count_steps_null_hyp(1000, weights, distributions, D1, D2, alpha, beta, 1000)"
   ]
  },
  {
   "cell_type": "code",
   "execution_count": 0,
   "metadata": {
    "colab": {
     "autoexec": {
      "startup": false,
      "wait_interval": 0
     }
    },
    "colab_type": "code",
    "id": "ZlqxbVsrWoxx",
    "outputId": "db755f73-5ea2-4e0b-8ca1-beaa02304385"
   },
   "outputs": [
    {
     "name": "stdout",
     "output_type": "stream",
     "text": [
      "Нулевая гипотеза принята 235 раз из 1000\n",
      "Среднее количество шагов до принятия гипотезы: 1.702127659574468\n"
     ]
    }
   ],
   "source": [
    "count_steps_null_hyp(1000, weights, distributions, D0, D2, alpha, beta, 1000)"
   ]
  },
  {
   "cell_type": "markdown",
   "metadata": {
    "colab_type": "text",
    "id": "CN1H4G9WWox0"
   },
   "source": [
    "Видим, что при выравнивании весов в г.с. стали отчётливо выделяться все три её составляющие. Так как среднее D1 находится между средними D0 и D2, а стандартные отклонения относительно большие, распределения заметно пересекаются, и поэтому по критерию Вальда чаще устанавливается, что г.с. распределена согласно закону D1"
   ]
  }
 ],
 "metadata": {
  "colab": {
   "default_view": {},
   "name": "HW1_T3.ipynb",
   "provenance": [],
   "version": "0.3.2",
   "views": {}
  },
  "kernelspec": {
   "display_name": "Python 3",
   "language": "python",
   "name": "python3"
  },
  "language_info": {
   "codemirror_mode": {
    "name": "ipython",
    "version": 3
   },
   "file_extension": ".py",
   "mimetype": "text/x-python",
   "name": "python",
   "nbconvert_exporter": "python",
   "pygments_lexer": "ipython3",
   "version": "3.6.9"
  },
  "latex_envs": {
   "LaTeX_envs_menu_present": true,
   "autoclose": false,
   "autocomplete": true,
   "bibliofile": "biblio.bib",
   "cite_by": "apalike",
   "current_citInitial": 1,
   "eqLabelWithNumbers": true,
   "eqNumInitial": 1,
   "hotkeys": {
    "equation": "Ctrl-E",
    "itemize": "Ctrl-I"
   },
   "labels_anchors": false,
   "latex_user_defs": false,
   "report_style_numbering": false,
   "user_envs_cfg": false
  },
  "toc": {
   "base_numbering": 1,
   "nav_menu": {},
   "number_sections": true,
   "sideBar": true,
   "skip_h1_title": false,
   "title_cell": "Table of Contents",
   "title_sidebar": "Contents",
   "toc_cell": false,
   "toc_position": {},
   "toc_section_display": true,
   "toc_window_display": true
  },
  "varInspector": {
   "cols": {
    "lenName": 16,
    "lenType": 16,
    "lenVar": 40
   },
   "kernels_config": {
    "python": {
     "delete_cmd_postfix": "",
     "delete_cmd_prefix": "del ",
     "library": "var_list.py",
     "varRefreshCmd": "print(var_dic_list())"
    },
    "r": {
     "delete_cmd_postfix": ") ",
     "delete_cmd_prefix": "rm(",
     "library": "var_list.r",
     "varRefreshCmd": "cat(var_dic_list()) "
    }
   },
   "types_to_exclude": [
    "module",
    "function",
    "builtin_function_or_method",
    "instance",
    "_Feature"
   ],
   "window_display": false
  }
 },
 "nbformat": 4,
 "nbformat_minor": 1
}
